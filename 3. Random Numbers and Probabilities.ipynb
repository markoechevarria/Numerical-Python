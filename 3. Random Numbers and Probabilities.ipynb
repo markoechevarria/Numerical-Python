{
 "cells": [
  {
   "cell_type": "code",
   "execution_count": 1,
   "id": "498b2905-82e5-439b-8441-eb9a375cd67e",
   "metadata": {},
   "outputs": [],
   "source": [
    "import numpy as np"
   ]
  },
  {
   "cell_type": "markdown",
   "id": "733a5995-abdd-4bd0-b5b6-d6c0add23940",
   "metadata": {},
   "source": [
    "## Generating Random Numbers"
   ]
  },
  {
   "cell_type": "code",
   "execution_count": 2,
   "id": "d3883ff8-6ff6-4f47-9a03-4e29df973e82",
   "metadata": {},
   "outputs": [
    {
     "name": "stdout",
     "output_type": "stream",
     "text": [
      "0.550048619424894\n"
     ]
    }
   ],
   "source": [
    "import random\n",
    "random_number = random.random()\n",
    "print(random_number)"
   ]
  },
  {
   "cell_type": "code",
   "execution_count": 3,
   "id": "3b1a91d5-1f4e-4c4f-b61f-afd6dab2fa55",
   "metadata": {},
   "outputs": [
    {
     "name": "stdout",
     "output_type": "stream",
     "text": [
      "0.8051808042464073\n"
     ]
    }
   ],
   "source": [
    "from random import SystemRandom\n",
    "crypto = SystemRandom()\n",
    "print(crypto.random())"
   ]
  },
  {
   "cell_type": "markdown",
   "id": "09406b34-2aea-45d4-8746-020c21733535",
   "metadata": {},
   "source": [
    "## Random Numbers Satisfying sum-to-one Condition"
   ]
  },
  {
   "cell_type": "code",
   "execution_count": 4,
   "id": "f6db6702-85f7-4a1e-a601-4bc2da79279a",
   "metadata": {},
   "outputs": [
    {
     "name": "stdout",
     "output_type": "stream",
     "text": [
      "[0.60447535 0.5987691  0.81816106 0.69069165 0.06297799 0.57226932\n",
      " 0.61379941 0.7114961  0.77564818 0.94310431 0.6060668  0.88044507\n",
      " 0.44332331 0.88584713 0.64337623 0.63912799 0.26593195 0.98298764\n",
      " 0.75127014 0.36420124 0.32310909 0.36773125 0.30522269 0.08355771\n",
      " 0.3083431  0.76290629 0.45563879 0.16669466 0.46302289 0.10720979\n",
      " 0.93224734 0.7451148  0.66933465 0.65511893 0.25757247 0.52536111\n",
      " 0.58185644 0.16195583 0.56388853 0.89062139 0.42068049 0.15726185\n",
      " 0.15940605 0.68231767 0.185105   0.06489718 0.00331181 0.8107536\n",
      " 0.550986   0.69699321 0.98279961 0.69798623 0.03051276 0.81597612\n",
      " 0.35268259 0.16446605 0.57542244 0.25240247 0.40182699 0.94645956\n",
      " 0.5605266  0.85817458 0.66476436 0.66678213 0.68142142 0.46320176\n",
      " 0.6879198  0.38841769 0.21080741 0.85786443 0.6890453  0.84436487\n",
      " 0.89286414 0.23622634 0.45722969 0.82517826 0.28855298 0.25195854\n",
      " 0.02771357 0.47188589 0.99960662 0.23364832 0.31199182 0.78815865\n",
      " 0.30711446 0.60638648 0.8087147  0.16598675 0.28467656 0.91501801\n",
      " 0.7817108  0.7524787  0.23830517 0.36583015 0.03980281 0.51127356\n",
      " 0.4759922  0.55518362 0.55250599 0.45267359]\n",
      "52.30468409100229\n",
      "[1.15568110e-02 1.14477148e-02 1.56422140e-02 1.32051585e-02\n",
      " 1.20406018e-03 1.09410722e-02 1.17350754e-02 1.36029136e-02\n",
      " 1.48294210e-02 1.80309722e-02 1.15872376e-02 1.68330062e-02\n",
      " 8.47578600e-03 1.69362869e-02 1.23005472e-02 1.22193260e-02\n",
      " 5.08428553e-03 1.87934915e-02 1.43633435e-02 6.96307122e-03\n",
      " 6.17744079e-03 7.03056065e-03 5.83547528e-03 1.59751878e-03\n",
      " 5.89513351e-03 1.45858121e-02 8.71124250e-03 3.18699292e-03\n",
      " 8.85241726e-03 2.04971672e-03 1.78234006e-02 1.42456610e-02\n",
      " 1.27968395e-02 1.25250529e-02 4.92446275e-03 1.00442460e-02\n",
      " 1.11243658e-02 3.09639242e-03 1.07808419e-02 1.70275646e-02\n",
      " 8.04288359e-03 3.00664955e-03 3.04764382e-03 1.30450587e-02\n",
      " 3.53897556e-03 1.24075272e-03 6.33176139e-05 1.55005926e-02\n",
      " 1.05341616e-02 1.33256365e-02 1.87898968e-02 1.33446219e-02\n",
      " 5.83365767e-04 1.56004407e-02 6.74284911e-03 3.14438475e-03\n",
      " 1.10013558e-02 4.82561882e-03 7.68242848e-03 1.80951204e-02\n",
      " 1.07165660e-02 1.64072224e-02 1.27094613e-02 1.27480385e-02\n",
      " 1.30279234e-02 8.85583710e-03 1.31521643e-02 7.42605931e-03\n",
      " 4.03037342e-03 1.64012927e-02 1.31736824e-02 1.61431979e-02\n",
      " 1.70704431e-02 4.51635150e-03 8.74165863e-03 1.57763741e-02\n",
      " 5.51677132e-03 4.81713149e-03 5.29848647e-04 9.02186675e-03\n",
      " 1.91112256e-02 4.46706310e-03 5.96489251e-03 1.50686054e-02\n",
      " 5.87164346e-03 1.15933495e-02 1.54616114e-02 3.17345858e-03\n",
      " 5.44265900e-03 1.74939975e-02 1.49453307e-02 1.43864496e-02\n",
      " 4.55609612e-03 6.99421398e-03 7.60979924e-04 9.77490964e-03\n",
      " 9.10037430e-03 1.06144148e-02 1.05632219e-02 8.65455164e-03]\n",
      "1.0\n"
     ]
    }
   ],
   "source": [
    "random_array = np.random.random(100)\n",
    "sum_of_values = random_array.sum()\n",
    "\n",
    "print(random_array)\n",
    "print(sum_of_values)\n",
    "\n",
    "random_new_array = random_array/sum_of_values\n",
    "sum_of_new_values = random_new_array.sum()\n",
    "\n",
    "print(random_new_array)\n",
    "print(sum_of_new_values)"
   ]
  },
  {
   "cell_type": "markdown",
   "id": "d0a3689c-c5a3-45b4-acff-5877423fd1e1",
   "metadata": {},
   "source": [
    "## Generating random strings or passwords"
   ]
  },
  {
   "cell_type": "code",
   "execution_count": 5,
   "id": "45aa5f55-a767-4688-aad6-8564403b7e8a",
   "metadata": {},
   "outputs": [
    {
     "data": {
      "text/plain": [
       "'#'"
      ]
     },
     "execution_count": 5,
     "metadata": {},
     "output_type": "execute_result"
    }
   ],
   "source": [
    "from random import SystemRandom\n",
    "sr = SystemRandom()\n",
    "\n",
    "chr(sr.randint(1, 128))"
   ]
  },
  {
   "cell_type": "code",
   "execution_count": 6,
   "id": "478d0e73-d940-4758-90cd-4f04052585fa",
   "metadata": {},
   "outputs": [
    {
     "data": {
      "text/plain": [
       "'pyYKhoHdOyZNnlSZQiLY'"
      ]
     },
     "execution_count": 6,
     "metadata": {},
     "output_type": "execute_result"
    }
   ],
   "source": [
    "from random import SystemRandom\n",
    "\n",
    "sr = SystemRandom()\n",
    "\n",
    "def generatePassword(length):\n",
    "    valid_chars = \"ABCDEFGHIJKLMNOPQRSTUVWXYZ\"\n",
    "    valid_chars += valid_chars.lower() + \"012345689\"\n",
    "\n",
    "    password = \"\"\n",
    "    count = 0\n",
    "\n",
    "    while (count < length ):\n",
    "        char = sr.randint(1,128)\n",
    "        char = chr(char)\n",
    "        if (char in valid_chars):\n",
    "            password += char\n",
    "            count += 1\n",
    "\n",
    "    return password\n",
    "\n",
    "generatePassword(20)"
   ]
  },
  {
   "cell_type": "code",
   "execution_count": 7,
   "id": "e7af5016-3d3e-4c59-bcbb-2dd8eef8d122",
   "metadata": {},
   "outputs": [
    {
     "data": {
      "text/plain": [
       "[3, 1, 4, 7, 3, 2, 10, 8, 8, 9]"
      ]
     },
     "execution_count": 7,
     "metadata": {},
     "output_type": "execute_result"
    }
   ],
   "source": [
    "random_vector = [sr.randint(1,10) for _ in range(10)]\n",
    "random_vector"
   ]
  },
  {
   "cell_type": "code",
   "execution_count": 8,
   "id": "0f8b118c-59ed-4d32-84a3-399cb01db227",
   "metadata": {},
   "outputs": [
    {
     "name": "stdout",
     "output_type": "stream",
     "text": [
      "Berlin\n",
      "[['Zurich' 'Zurich' 'Berlin']\n",
      " ['Munich' 'Berlin' 'Berlin']]\n",
      "[['Strasbourg' 'London' 'Heidelberg']\n",
      " ['Augsburg' 'Milan' 'Rome']]\n"
     ]
    }
   ],
   "source": [
    "from numpy.random import choice\n",
    "\n",
    "possible_destinations = [\"Berlin\", \"Hamburg\", \"Munich\", \n",
    "                         \"Amsterdam\", \"London\", \"Paris\", \n",
    "                         \"Zurich\", \"Heidelberg\", \"Strasbourg\", \n",
    "                         \"Augsburg\", \"Milan\", \"Rome\"]\n",
    "\n",
    "print(choice(possible_destinations))\n",
    "\n",
    "x1 = choice(possible_destinations, size=(2,3))\n",
    "print(x1)\n",
    "\n",
    "x2 = choice(possible_destinations, size=(2,3), replace=False)\n",
    "print(x2)"
   ]
  },
  {
   "cell_type": "code",
   "execution_count": 9,
   "id": "7c4342b9-0798-41e0-8b65-ea56eefd91c3",
   "metadata": {},
   "outputs": [
    {
     "name": "stdout",
     "output_type": "stream",
     "text": [
      "[[0.41086011 0.32239685 0.29473086 0.05355188]\n",
      " [0.14142208 0.38584604 0.52598001 0.68592881]\n",
      " [0.63824711 0.95971801 0.52778144 0.30384133]]\n",
      "[0.22209516 0.06024924 0.82900724 0.10158725 0.44400003 0.49026489\n",
      " 0.21380959]\n",
      "[0.81316167 0.93442316 0.13375696 0.96640487 0.89858982 0.82981278\n",
      " 0.18645284]\n"
     ]
    }
   ],
   "source": [
    "x = np.random.random_sample((3, 4))\n",
    "print(x)\n",
    "\n",
    "x = np.random.random_sample(7)\n",
    "print(x)\n",
    "\n",
    "y = np.random.random_sample((7,))\n",
    "print(y)"
   ]
  },
  {
   "cell_type": "code",
   "execution_count": 10,
   "id": "c58fff4b-c1f4-488d-94ac-960bf9222d81",
   "metadata": {},
   "outputs": [
    {
     "name": "stdout",
     "output_type": "stream",
     "text": [
      "[[ 3.53012657  3.09341099  5.66592304  0.13944412]\n",
      " [ 1.88966476 -2.18059172  4.42522733 -0.07462911]\n",
      " [ 2.20213133 -0.29323332  5.60182497 -2.90971027]]\n",
      "[2, 29, 37, 5, 19, 31]\n"
     ]
    }
   ],
   "source": [
    "a = -3.4\n",
    "b = 5.9\n",
    "\n",
    "A = (b - a) * np.random.random_sample((3, 4)) + a\n",
    "print(A)\n",
    "\n",
    "print(random.sample(range(1, 50), 6))"
   ]
  },
  {
   "cell_type": "markdown",
   "id": "c41607bb-d525-4dea-9e91-d536d33297a2",
   "metadata": {},
   "source": [
    "## Weighted Probabilities"
   ]
  },
  {
   "cell_type": "code",
   "execution_count": 11,
   "id": "eb235d7f-f68e-4d37-8dc8-269fc2e458f5",
   "metadata": {},
   "outputs": [
    {
     "name": "stdout",
     "output_type": "stream",
     "text": [
      "[0, np.float64(0.2), np.float64(0.7), np.float64(1.0)]\n"
     ]
    }
   ],
   "source": [
    "weights = [0.2, 0.5, 0.3]\n",
    "cum_weights = [0] + list(np.cumsum(weights))\n",
    "print(cum_weights)"
   ]
  },
  {
   "cell_type": "code",
   "execution_count": 12,
   "id": "b1161d08-6bde-4f9d-af7b-5100e2c9326f",
   "metadata": {},
   "outputs": [
    {
     "name": "stdout",
     "output_type": "stream",
     "text": [
      "quantity A: 30341\n",
      "quantity B: 14659\n",
      "quantity C: 5000\n",
      "Percentage per each letter\n",
      "\tA: 0.60682\n",
      "\tB: 0.29318\n",
      "\tC: 0.1\n",
      "Total Percentage: 1.0\n"
     ]
    }
   ],
   "source": [
    "import random\n",
    "\n",
    "def weighted_choice(obj, weights):\n",
    "    weights = np.array(weights)\n",
    "    sum_weights = weights.sum()\n",
    "\n",
    "    weights = np.multiply(weights, 1/sum_weights)\n",
    "    weights = np.cumsum(weights)\n",
    "    rando = random.random()\n",
    "    for i in range(len(weights)):\n",
    "        if rando < weights[i]:\n",
    "            return obj[i]\n",
    "def prediction():\n",
    "    value = weighted_choice(['a','b','c'], [0.6, 0.3, 0.1])\n",
    "    return value\n",
    "\n",
    "dictionary = { 'a': 0, 'b':0, 'c':0 } \n",
    "\n",
    "for i in range(50000):\n",
    "    x = prediction()\n",
    "    if x == 'a' :\n",
    "        dictionary['a'] += 1\n",
    "    if x == 'b' :\n",
    "        dictionary['b'] += 1\n",
    "    if x == 'c' :\n",
    "        dictionary['c'] += 1\n",
    "\n",
    "cum_sum = dictionary['a'] + dictionary['b'] + dictionary['c'] \n",
    "\n",
    "print(f\"quantity A: {dictionary['a']}\")\n",
    "print(f\"quantity B: {dictionary['b']}\")\n",
    "print(f\"quantity C: {dictionary['c']}\")\n",
    "\n",
    "if cum_sum != 0: \n",
    "    print(f\"Percentage per each letter\\n\\tA: {dictionary['a']/cum_sum}\\n\\tB: {dictionary['b']/cum_sum}\\n\\tC: {dictionary['c']/cum_sum}\\nTotal Percentage: { (dictionary['a'] + dictionary['b'] + dictionary['c']) / cum_sum}\")\n",
    "else:\n",
    "    print(\"Something went wrong\")"
   ]
  },
  {
   "cell_type": "code",
   "execution_count": 13,
   "id": "6bc61361-c58a-48b1-9576-7f35fa8b250a",
   "metadata": {},
   "outputs": [
    {
     "name": "stdout",
     "output_type": "stream",
     "text": [
      "priest\n"
     ]
    }
   ],
   "source": [
    "professions = [\"scientist\", \n",
    "               \"philosopher\", \n",
    "               \"engineer\", \n",
    "               \"priest\", \n",
    "               \"programmer\"]\n",
    "\n",
    "probabilities = [0.2, 0.05, 0.3, 0.15, 0.3]\n",
    "\n",
    "print(np.random.choice(professions, p=probabilities))"
   ]
  },
  {
   "cell_type": "code",
   "execution_count": 18,
   "id": "6764bb5a-96e1-4ad4-802b-feabbc611a05",
   "metadata": {},
   "outputs": [
    {
     "name": "stdout",
     "output_type": "stream",
     "text": [
      "[33.82663848 32.13530655 21.14164905 12.89640592]\n",
      "\n"
     ]
    },
    {
     "data": {
      "image/png": "[encoded data removed]",
      "text/plain": [
       "<Figure size 640x480 with 1 Axes>"
      ]
     },
     "metadata": {},
     "output_type": "display_data"
    }
   ],
   "source": [
    "import matplotlib.pyplot as plt\n",
    "\n",
    "programming_languages = [\"Java\", \"C\", \"Python\", \"C++\"]\n",
    "weights = np.array([16, 15.2, 10, 6.1])\n",
    "\n",
    "weights /= np.sum(weights)\n",
    "\n",
    "values = []\n",
    "counter = {}\n",
    "\n",
    "for i in programming_languages:\n",
    "    counter[f\"{i}\"] = 0\n",
    "\n",
    "for i in range(500000):\n",
    "    value = np.random.choice(programming_languages, p=weights)\n",
    "    for i in counter:\n",
    "        if value == i:\n",
    "            counter[f\"{i}\"] += 1\n",
    "\n",
    "print(f\"{weights*100}\\n\")\n",
    "plt.pie(counter.values(), labels=counter.keys(), autopct='%1.1f%%')\n",
    "plt.title('Progarmming languages')\n",
    "plt.axis('equal')\n",
    "plt.show()"
   ]
  },
  {
   "cell_type": "code",
   "execution_count": 19,
   "id": "5f11ee48-ad8e-4c6d-b215-2e7a9d28eb88",
   "metadata": {},
   "outputs": [
    {
     "name": "stdout",
     "output_type": "stream",
     "text": [
      "The yellow car shines\n",
      "The yellow light blinks\n",
      "A yellow light blinks\n",
      "The grey light smells\n",
      "The green light blinks\n"
     ]
    }
   ],
   "source": [
    "def cartesian_choice(*iterables):\n",
    "    res = []\n",
    "    for i in iterables:\n",
    "        res.append(np.random.choice(i))\n",
    "    print(*res)\n",
    "    \n",
    "for _ in range(5):\n",
    "    cartesian_choice([\"The\", \"A\"],\n",
    "                 [\"red\", \"green\", \"blue\", \"yellow\", \"grey\"], \n",
    "                 [\"car\", \"house\", \"fish\", \"light\"],\n",
    "                 [\"smells\", \"dreams\", \"blinks\", \"shines\"])"
   ]
  },
  {
   "cell_type": "markdown",
   "id": "e44566c5-5a03-450e-8762-a1adbc2bf1af",
   "metadata": {},
   "source": [
    "## Seed"
   ]
  },
  {
   "cell_type": "code",
   "execution_count": 20,
   "id": "788e2817-a264-4050-9c02-8203d684f542",
   "metadata": {},
   "outputs": [
    {
     "name": "stdout",
     "output_type": "stream",
     "text": [
      "3, 10, 2, 5, 2, 8, 8, 8, 7, 4, \n",
      "Let's create the same random numbers again:\n",
      "2, 1, 5, 4, 4, 3, 2, 9, 2, 10, "
     ]
    }
   ],
   "source": [
    "random.seed(1)\n",
    "\n",
    "for _ in range(10):\n",
    "    print(random.randint(1, 10), end=\", \")\n",
    "    \n",
    "print(\"\\nLet's create the same random numbers again:\")\n",
    "random.seed(42)\n",
    "for _ in range(10):\n",
    "    print(random.randint(1, 10), end=\", \")"
   ]
  },
  {
   "cell_type": "markdown",
   "id": "3139657c-d706-425f-8f11-be67d5b118e3",
   "metadata": {},
   "source": [
    "## Random Numbers in Python with Gaussian and Normalvariate Distribution"
   ]
  },
  {
   "cell_type": "code",
   "execution_count": 21,
   "id": "871b96b5-ea66-4524-b50c-5fb25931e8fe",
   "metadata": {},
   "outputs": [
    {
     "name": "stdout",
     "output_type": "stream",
     "text": [
      "[(130, 391), (131, 396), (132, 390), (133, 416), (134, 420), (135, 486), (136, 496), (137, 593), (138, 585), (139, 608), (140, 622), (141, 654), (142, 694), (143, 719), (144, 745), (145, 778), (146, 762), (147, 790), (148, 858), (149, 813), (150, 907), (151, 959), (152, 952), (153, 973), (154, 1010), (155, 1057), (156, 1114), (157, 1116), (158, 1126), (159, 1111), (160, 1204), (161, 1189), (162, 1251), (163, 1244), (164, 1262), (165, 1286), (166, 1309), (167, 1355), (168, 1337), (169, 1365), (170, 1378), (171, 1411), (172, 1448), (173, 1363), (174, 1510), (175, 1495), (176, 1453), (177, 1503), (178, 1408), (179, 1511), (180, 1429), (181, 1474), (182, 1475), (183, 1501), (184, 1369), (185, 1497), (186, 1465), (187, 1396), (188, 1414), (189, 1380), (190, 1410), (191, 1380), (192, 1431), (193, 1398), (194, 1304), (195, 1318), (196, 1350), (197, 1244), (198, 1134), (199, 1184), (200, 1111), (201, 1134), (202, 1068), (203, 1067), (204, 1005), (205, 1076), (206, 959), (207, 981), (208, 927), (209, 914), (210, 917), (211, 815), (212, 871), (213, 837), (214, 723), (215, 702), (216, 714), (217, 685), (218, 664), (219, 657), (220, 605), (221, 570), (222, 504), (223, 543), (224, 468), (225, 468), (226, 457), (227, 404), (228, 390), (229, 388)]\n",
      "(130, 391) (131, 396) (132, 390) (133, 416) (134, 420) (135, 486) (136, 496) (137, 593) (138, 585) (139, 608) (140, 622) (141, 654) (142, 694) (143, 719) (144, 745) (145, 778) (146, 762) (147, 790) (148, 858) (149, 813) (150, 907) (151, 959) (152, 952) (153, 973) (154, 1010) (155, 1057) (156, 1114) (157, 1116) (158, 1126) (159, 1111) (160, 1204) (161, 1189) (162, 1251) (163, 1244) (164, 1262) (165, 1286) (166, 1309) (167, 1355) (168, 1337) (169, 1365) (170, 1378) (171, 1411) (172, 1448) (173, 1363) (174, 1510) (175, 1495) (176, 1453) (177, 1503) (178, 1408) (179, 1511) (180, 1429) (181, 1474) (182, 1475) (183, 1501) (184, 1369) (185, 1497) (186, 1465) (187, 1396) (188, 1414) (189, 1380) (190, 1410) (191, 1380) (192, 1431) (193, 1398) (194, 1304) (195, 1318) (196, 1350) (197, 1244) (198, 1134) (199, 1184) (200, 1111) (201, 1134) (202, 1068) (203, 1067) (204, 1005) (205, 1076) (206, 959) (207, 981) (208, 927) (209, 914) (210, 917) (211, 815) (212, 871) (213, 837) (214, 723) (215, 702) (216, 714) (217, 685) (218, 664) (219, 657) (220, 605) (221, 570) (222, 504) (223, 543) (224, 468) (225, 468) (226, 457) (227, 404) (228, 390) (229, 388)\n",
      "[(130, 131, 132, 133, 134, 135, 136, 137, 138, 139, 140, 141, 142, 143, 144, 145, 146, 147, 148, 149, 150, 151, 152, 153, 154, 155, 156, 157, 158, 159, 160, 161, 162, 163, 164, 165, 166, 167, 168, 169, 170, 171, 172, 173, 174, 175, 176, 177, 178, 179, 180, 181, 182, 183, 184, 185, 186, 187, 188, 189, 190, 191, 192, 193, 194, 195, 196, 197, 198, 199, 200, 201, 202, 203, 204, 205, 206, 207, 208, 209, 210, 211, 212, 213, 214, 215, 216, 217, 218, 219, 220, 221, 222, 223, 224, 225, 226, 227, 228, 229), (391, 396, 390, 416, 420, 486, 496, 593, 585, 608, 622, 654, 694, 719, 745, 778, 762, 790, 858, 813, 907, 959, 952, 973, 1010, 1057, 1114, 1116, 1126, 1111, 1204, 1189, 1251, 1244, 1262, 1286, 1309, 1355, 1337, 1365, 1378, 1411, 1448, 1363, 1510, 1495, 1453, 1503, 1408, 1511, 1429, 1474, 1475, 1501, 1369, 1497, 1465, 1396, 1414, 1380, 1410, 1380, 1431, 1398, 1304, 1318, 1350, 1244, 1134, 1184, 1111, 1134, 1068, 1067, 1005, 1076, 959, 981, 927, 914, 917, 815, 871, 837, 723, 702, 714, 685, 664, 657, 605, 570, 504, 543, 468, 468, 457, 404, 390, 388)]\n"
     ]
    },
    {
     "data": {
      "text/plain": [
       "[<matplotlib.lines.Line2D at 0x7fae66d5b890>]"
      ]
     },
     "execution_count": 21,
     "metadata": {},
     "output_type": "execute_result"
    },
    {
     "data": {
      "image/png": "[encoded data removed]",
      "text/plain": [
       "<Figure size 640x480 with 1 Axes>"
      ]
     },
     "metadata": {},
     "output_type": "display_data"
    }
   ],
   "source": [
    "n = 100000\n",
    "values = []\n",
    "frequencies = {}\n",
    "\n",
    "while len(values) < n:\n",
    "    value = random.gauss(180, 30)\n",
    "    if 130 < value < 230:\n",
    "        frequencies[int(value)] = frequencies.get(int(value), 0) + 1\n",
    "        values.append(value)\n",
    "\n",
    "freq = list(frequencies.items())\n",
    "freq.sort()\n",
    "\n",
    "print(freq)\n",
    "print(*freq)\n",
    "print(list(zip(*freq)))\n",
    "\n",
    "plt.plot(*list(zip(*freq)))"
   ]
  },
  {
   "cell_type": "code",
   "execution_count": 22,
   "id": "d66ae6e3-50c5-4c24-83b7-c157502548a5",
   "metadata": {},
   "outputs": [
    {
     "data": {
      "text/plain": [
       "[<matplotlib.lines.Line2D at 0x7fae66fb9950>]"
      ]
     },
     "execution_count": 22,
     "metadata": {},
     "output_type": "execute_result"
    },
    {
     "data": {
      "image/png": "[encoded data removed]",
      "text/plain": [
       "<Figure size 640x480 with 1 Axes>"
      ]
     },
     "metadata": {},
     "output_type": "display_data"
    }
   ],
   "source": [
    "n = 100000\n",
    "\n",
    "values = []\n",
    "frequencies = {}\n",
    "\n",
    "while len(values) < n:\n",
    "    value = random.normalvariate(180, 30)\n",
    "    if 130 < value < 230:\n",
    "        frequencies[int(value)] = frequencies.get(int(value), 0) + 1\n",
    "        values.append(value)\n",
    "\n",
    "freq = list(frequencies.items())\n",
    "freq.sort()\n",
    "\n",
    "\n",
    "plt.plot(*list(zip(*freq)))"
   ]
  },
  {
   "cell_type": "markdown",
   "id": "309bfb48-6c77-4c3c-aaac-151c09d0f5b8",
   "metadata": {},
   "source": [
    "## Zeros and Ones"
   ]
  },
  {
   "cell_type": "code",
   "execution_count": 56,
   "id": "8bb06d10-b04e-4ddc-b6af-9d4c4991c54a",
   "metadata": {},
   "outputs": [
    {
     "data": {
      "text/plain": [
       "0.79925"
      ]
     },
     "execution_count": 56,
     "metadata": {},
     "output_type": "execute_result"
    }
   ],
   "source": [
    "def random_ones_and_zeros(p):\n",
    "    while True:\n",
    "        x = random.random()\n",
    "        yield 1 if x < p else 0\n",
    "        \n",
    "def firstn(generator, n):\n",
    "\tfor i in range(n):\n",
    "\t\tyield next(generator)\n",
    "\n",
    "n = 100000\n",
    "sum(x for x in firstn(random_ones_and_zeros(0.8), n))/n"
   ]
  },
  {
   "cell_type": "markdown",
   "id": "19bb9dcb-44a8-450f-a25b-069f5c7375b7",
   "metadata": {},
   "source": [
    "## Synthetical Sales Figures"
   ]
  },
  {
   "cell_type": "code",
   "execution_count": 62,
   "id": "367800e8-0c3e-4a54-914e-dd1147438b5b",
   "metadata": {},
   "outputs": [],
   "source": [
    "fh = open(\"sales_figures.csv\", \"w\")\n",
    "\n",
    "fh.write(\"Year, Frankfurt, Munich, Berlin, Zurich, Hamburg, London, Toronto, Strasbourg, Luxembourg, Amsterdam, Rotterdam, The Hague\\n\")\n",
    "\n",
    "for year in range(1997, 2016):\n",
    "    line = str(year) + \", \" + \", \".join(map(str, sales))\n",
    "    fh.write(line + \"\\n\")\n",
    "    if year % 4 == 0:\n",
    "         min_percent = 0.98\n",
    "         max_percent = 1.06\n",
    "         growthrates = (max_percent - min_percent) * np.random.random_sample(12) + min_percent\n",
    "    sales = np.around(sales * growthrates, 2)\n",
    "fh.close()"
   ]
  }
 ],
 "metadata": {
  "kernelspec": {
   "display_name": "Python 3 (ipykernel)",
   "language": "python",
   "name": "python3"
  },
  "language_info": {
   "codemirror_mode": {
    "name": "ipython",
    "version": 3
   },
   "file_extension": ".py",
   "mimetype": "text/x-python",
   "name": "python",
   "nbconvert_exporter": "python",
   "pygments_lexer": "ipython3",
   "version": "3.13.5"
  }
 },
 "nbformat": 4,
 "nbformat_minor": 5
}
