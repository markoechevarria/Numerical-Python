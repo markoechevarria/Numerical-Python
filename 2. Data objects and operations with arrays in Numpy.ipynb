{
 "cells": [
  {
   "cell_type": "code",
   "execution_count": 2,
   "id": "6d61c290-a5cf-4aa1-9446-3d90cc025581",
   "metadata": {},
   "outputs": [],
   "source": [
    "import numpy as np"
   ]
  },
  {
   "cell_type": "markdown",
   "id": "4db9902f-a34e-4bf8-9a74-fedea96b10f5",
   "metadata": {},
   "source": [
    "## Dtype"
   ]
  },
  {
   "cell_type": "code",
   "execution_count": 3,
   "id": "be097792-7b86-47cb-900c-4343b547d622",
   "metadata": {},
   "outputs": [
    {
     "data": {
      "text/plain": [
       "array([1., 2., 3.], dtype=float32)"
      ]
     },
     "execution_count": 3,
     "metadata": {},
     "output_type": "execute_result"
    }
   ],
   "source": [
    "arr_1 = np.array([1,2,3], dtype=np.float32)\n",
    "arr_1"
   ]
  },
  {
   "cell_type": "code",
   "execution_count": 4,
   "id": "0adef547-004f-4fa3-a414-707ca45e2caa",
   "metadata": {},
   "outputs": [
    {
     "data": {
      "text/plain": [
       "array([1, 2, 3], dtype=int16)"
      ]
     },
     "execution_count": 4,
     "metadata": {},
     "output_type": "execute_result"
    }
   ],
   "source": [
    "lst = [1,2,3]\n",
    "A = np.array(lst, dtype=np.int16)\n",
    "A"
   ]
  },
  {
   "cell_type": "markdown",
   "id": "eeaecfa8-5377-44c0-969d-4662a3aa45a0",
   "metadata": {},
   "source": [
    "## Structured Arrays"
   ]
  },
  {
   "cell_type": "code",
   "execution_count": 5,
   "id": "4261e090-6375-4577-8ee2-e98b4542c4dd",
   "metadata": {},
   "outputs": [
    {
     "name": "stdout",
     "output_type": "stream",
     "text": [
      "Estructured array\n",
      " [(393,) (337,) (256,)]\n",
      "\n",
      "The internal representation\n",
      " array([(393,), (337,), (256,)], dtype=[('density', '<i4')])\n",
      "\n",
      "Density\n",
      " [393 337 256]\n"
     ]
    }
   ],
   "source": [
    "density_type = np.dtype([ (\"density\", np.int32)])\n",
    "densities = np.array( [393, 337, 256] , dtype=density_type)\n",
    "\n",
    "print(\"Estructured array\\n\",densities)\n",
    "print(\"\\nThe internal representation\\n\",repr(densities))\n",
    "print(\"\\nDensity\\n\", densities[\"density\"])"
   ]
  },
  {
   "cell_type": "code",
   "execution_count": 6,
   "id": "73705992-eabb-44e9-93c0-d46cf7a95000",
   "metadata": {},
   "outputs": [
    {
     "name": "stdout",
     "output_type": "stream",
     "text": [
      "[('Netherlands', 544,  33720, 18346819) ('Belgium', 383,  30510, 11700000)\n",
      " ('United Kingdom', 287, 243610, 69800000)\n",
      " ('Germany', 241, 348560, 84075075)]\n"
     ]
    }
   ],
   "source": [
    "dt = np.dtype([\n",
    "    ('country', 'U20'), \n",
    "    ('density', 'i4'), \n",
    "    ('area', 'i4'), \n",
    "    ('population', 'i4')\n",
    "])\n",
    "\n",
    "population_table_2025 = np.array([\n",
    "    ('Netherlands', 544, 33720, 18_346_819),\n",
    "    ('Belgium', 383, 30510, 11_700_000),\n",
    "    ('United Kingdom', 287, 243610, 69_800_000),\n",
    "    ('Germany', 241, 348560, 84_075_075),\n",
    "    ('Liechtenstein', 238, 160, 38_080),\n",
    "    ('Italy', 197, 301230, 59_400_000),\n",
    "    ('Switzerland', 219, 41290, 9_050_000),\n",
    "    ('Luxembourg', 253, 2586, 654_000),\n",
    "    ('France', 122, 547030, 66_700_000),\n",
    "    ('Austria', 109, 83858, 9_140_000),\n",
    "    ('Greece', 81, 131940, 10_700_000),\n",
    "    ('Ireland', 77, 70280, 5_400_000),\n",
    "    ('Sweden', 26, 449964, 10_300_000),\n",
    "    ('Finland', 18, 338424, 6_100_000),\n",
    "    ('Norway', 15, 385252, 5_800_000)\n",
    "], dtype=dt)\n",
    "\n",
    "print(population_table_2025[:4])"
   ]
  },
  {
   "cell_type": "markdown",
   "id": "7de7cff5-7be9-44e3-9380-1b3a9af6c88d",
   "metadata": {},
   "source": [
    "## Input and output of structured array"
   ]
  },
  {
   "cell_type": "code",
   "execution_count": 7,
   "id": "f0ee36b5-ddde-4697-8523-4dbdf4acd30e",
   "metadata": {},
   "outputs": [],
   "source": [
    "np.savetxt(\"population_table_2025.csv\", population_table_2025, fmt=\"%s;%d;%d;%d\", delimiter=\";\" )"
   ]
  },
  {
   "cell_type": "code",
   "execution_count": 8,
   "id": "ea412f7d-bb20-4391-9f58-7b3a9af1e081",
   "metadata": {},
   "outputs": [
    {
     "data": {
      "text/plain": [
       "array([('Netherlands', 544,  33720, 18346819),\n",
       "       ('Belgium', 383,  30510, 11700000),\n",
       "       ('United Kingdom', 287, 243610, 69800000),\n",
       "       ('Germany', 241, 348560, 84075075),\n",
       "       ('Liechtenstein', 238,    160,    38080),\n",
       "       ('Italy', 197, 301230, 59400000),\n",
       "       ('Switzerland', 219,  41290,  9050000),\n",
       "       ('Luxembourg', 253,   2586,   654000),\n",
       "       ('France', 122, 547030, 66700000),\n",
       "       ('Austria', 109,  83858,  9140000),\n",
       "       ('Greece',  81, 131940, 10700000),\n",
       "       ('Ireland',  77,  70280,  5400000),\n",
       "       ('Sweden',  26, 449964, 10300000),\n",
       "       ('Finland',  18, 338424,  6100000),\n",
       "       ('Norway',  15, 385252,  5800000)],\n",
       "      dtype=[('country', '<U20'), ('density', '<i4'), ('area', '<i4'), ('population', '<i4')])"
      ]
     },
     "execution_count": 8,
     "metadata": {},
     "output_type": "execute_result"
    }
   ],
   "source": [
    "dt = np.dtype([(\"country\",'U20'),(\"density\",'i4'),(\"area\",'i4'),(\"population\",'i4')])\n",
    "df = np.genfromtxt(\"population_table_2025.csv\", dtype=dt, delimiter=\";\")\n",
    "df"
   ]
  },
  {
   "cell_type": "markdown",
   "id": "5ab7723c-ab85-4acc-b150-764310ff1ee9",
   "metadata": {},
   "source": [
    "## Operations"
   ]
  },
  {
   "cell_type": "code",
   "execution_count": 9,
   "id": "d5077160-a840-45cb-a2f3-d0ff24519214",
   "metadata": {},
   "outputs": [
    {
     "name": "stdout",
     "output_type": "stream",
     "text": [
      "[]\n",
      "[ True  True  True  True  True  True  True  True  True  True  True  True\n",
      "  True  True  True]\n",
      "['Netherlands' 'Belgium' 'United Kingdom' 'Germany' 'Liechtenstein'\n",
      " 'Italy' 'Switzerland' 'Luxembourg' 'France' 'Austria' 'Greece' 'Ireland'\n",
      " 'Sweden' 'Finland' 'Norway']\n",
      "[ 2781787  1562735 11645366  2055185     7194  2514874  2009523   245773\n",
      "  8507797  1196511   180766  1789303  1473699   992078  1441008]\n"
     ]
    }
   ],
   "source": [
    "population_table_1995 = np.array([\n",
    "    ('Netherlands', 462, 33720, 15_565_032),\n",
    "    ('Belgium', 332, 30510, 10_137_265),\n",
    "    ('United Kingdom', 239, 243610, 58_154_634),\n",
    "    ('Germany', 235, 348560, 82_019_890),\n",
    "    ('Liechtenstein', 193, 160, 30_886),\n",
    "    ('Italy', 189, 301230, 56_885_126),\n",
    "    ('Switzerland', 171, 41290, 7_040_477),\n",
    "    ('Luxembourg', 158, 2586, 408_227),\n",
    "    ('France', 106, 547030, 58_192_203),\n",
    "    ('Austria', 95, 83858, 7_943_489),\n",
    "    ('Greece', 80, 131940, 10_519_234),\n",
    "    ('Ireland', 51, 70280, 3_610_697),\n",
    "    ('Sweden', 20, 449964, 8_826_301),\n",
    "    ('Finland', 15, 338424, 5_107_922),\n",
    "    ('Norway', 11, 385252, 4_358_992)\n",
    "], dtype=dt)\n",
    "\n",
    "area_changed = population_table_2025[\"area\"] != population_table_1995[\"area\"] \n",
    "print(population_table_2025[\"area\"][area_changed])\n",
    "\n",
    "population_changed = population_table_2025[\"population\"] != population_table_1995[\"area\"]\n",
    "print(population_changed)\n",
    "print(population_table_2025[\"country\"][population_changed])\n",
    "\n",
    "population_diff = population_table_2025[\"population\"] - population_table_1995[\"population\"]\n",
    "print(population_diff)"
   ]
  },
  {
   "cell_type": "code",
   "execution_count": 10,
   "id": "e038ac70-95de-45d3-b399-935f5e174435",
   "metadata": {},
   "outputs": [
    {
     "name": "stdout",
     "output_type": "stream",
     "text": [
      "Netherlands         : \t     2781787\n",
      "Belgium             : \t     1562735\n",
      "United Kingdom      : \t    11645366\n",
      "Germany             : \t     2055185\n",
      "Liechtenstein       : \t        7194\n",
      "Italy               : \t     2514874\n",
      "Switzerland         : \t     2009523\n",
      "Luxembourg          : \t      245773\n",
      "France              : \t     8507797\n",
      "Austria             : \t     1196511\n",
      "Greece              : \t      180766\n",
      "Ireland             : \t     1789303\n",
      "Sweden              : \t     1473699\n",
      "Finland             : \t      992078\n",
      "Norway              : \t     1441008\n"
     ]
    }
   ],
   "source": [
    "for country, difference in zip(population_table_2025[\"country\"], population_diff):\n",
    "    print(f\"{country:20}: \\t{difference:>12}\")"
   ]
  },
  {
   "cell_type": "code",
   "execution_count": 11,
   "id": "c2fa6db4-80bf-4969-b04d-a1c65bad10ce",
   "metadata": {
    "scrolled": true
   },
   "outputs": [
    {
     "name": "stdout",
     "output_type": "stream",
     "text": [
      "[('Netherlands', 544,  33720, 18346819,  2781787)\n",
      " ('Belgium', 383,  30510, 11700000,  1562735)\n",
      " ('United Kingdom', 287, 243610, 69800000, 11645366)\n",
      " ('Germany', 241, 348560, 84075075,  2055185)\n",
      " ('Liechtenstein', 238,    160,    38080,     7194)\n",
      " ('Italy', 197, 301230, 59400000,  2514874)\n",
      " ('Switzerland', 219,  41290,  9050000,  2009523)\n",
      " ('Luxembourg', 253,   2586,   654000,   245773)\n",
      " ('France', 122, 547030, 66700000,  8507797)\n",
      " ('Austria', 109,  83858,  9140000,  1196511)\n",
      " ('Greece',  81, 131940, 10700000,   180766)\n",
      " ('Ireland',  77,  70280,  5400000,  1789303)\n",
      " ('Sweden',  26, 449964, 10300000,  1473699)\n",
      " ('Finland',  18, 338424,  6100000,   992078)\n",
      " ('Norway',  15, 385252,  5800000,  1441008)]\n"
     ]
    }
   ],
   "source": [
    "dt = np.dtype([\n",
    "    (\"country\", 'U20'),(\"density\",'i4'),(\"area\",'i4'),(\"population\",'i4'),(\"difference\",'i4') \n",
    "])\n",
    "population_table_2025_with_difference = np.array([\n",
    "    (country, density, area, population, difference) for country, density, area, population, difference in zip(\n",
    "        population_table_2025[\"country\"],\n",
    "        population_table_2025[\"density\"],\n",
    "        population_table_2025[\"area\"],\n",
    "        population_table_2025[\"population\"],\n",
    "        population_diff\n",
    "    )\n",
    "],dtype = dt)\n",
    "print(population_table_2025_with_difference)"
   ]
  },
  {
   "cell_type": "markdown",
   "id": "98cfc870-fbf0-4da6-9d86-fd829a278381",
   "metadata": {},
   "source": [
    "## Using Scalars"
   ]
  },
  {
   "cell_type": "code",
   "execution_count": 12,
   "id": "e0cd60a6-e154-41c1-aad8-c8541979c734",
   "metadata": {
    "scrolled": true
   },
   "outputs": [
    {
     "name": "stdout",
     "output_type": "stream",
     "text": [
      "[ 3.    4.    8.9   4.3   7.9   1.11 11.3  13.9 ]\n",
      "[ 1.    2.    6.9   2.3   5.9  -0.89  9.3  11.9 ]\n",
      "[ 4.    6.   15.8   6.6  13.8   0.22 20.6  25.8 ]\n",
      "[1.    1.5   3.95  1.65  3.45  0.055 5.15  6.45 ]\n"
     ]
    }
   ],
   "source": [
    "lst = [2,3, 7.9, 3.3, 6.9, 0.11, 10.3, 12.9]\n",
    "lst = np.array(lst)\n",
    "\n",
    "print(lst + 1)\n",
    "print(lst - 1)\n",
    "print(lst * 2)\n",
    "print(lst / 2)"
   ]
  },
  {
   "cell_type": "markdown",
   "id": "8c017a19-9bf0-480f-a9ac-40e26a56c908",
   "metadata": {},
   "source": [
    "## Arithmetic Operations with two Arrays"
   ]
  },
  {
   "cell_type": "code",
   "execution_count": 13,
   "id": "c699ce81-0617-4930-a226-138bc1c98947",
   "metadata": {},
   "outputs": [
    {
     "name": "stdout",
     "output_type": "stream",
     "text": [
      "[[12. 13. 14.]\n",
      " [22. 23. 24.]\n",
      " [32. 33. 34.]]\n",
      "[[22. 24. 26.]\n",
      " [42. 44. 46.]\n",
      " [62. 64. 66.]]\n"
     ]
    }
   ],
   "source": [
    "A = np.array([ [11, 12, 13], [21, 22, 23], [31, 32, 33] ])\n",
    "B = np.ones((3,3))\n",
    "\n",
    "print(A + B)\n",
    "print(A * (B+1))"
   ]
  },
  {
   "cell_type": "markdown",
   "id": "63b06b1e-9c1e-40b0-b1fd-3b8d72221853",
   "metadata": {},
   "source": [
    "## Matrix Multiplication"
   ]
  },
  {
   "cell_type": "code",
   "execution_count": 14,
   "id": "984d06e8-cb5a-48bf-8c06-f6efabd27318",
   "metadata": {},
   "outputs": [
    {
     "name": "stdout",
     "output_type": "stream",
     "text": [
      "-14\n"
     ]
    }
   ],
   "source": [
    "x = np.array([3, -2])\n",
    "y = np.array([-4, 1])\n",
    "\n",
    "print(np.dot(x, y))"
   ]
  },
  {
   "cell_type": "code",
   "execution_count": 15,
   "id": "d9838f17-ce2b-46bf-bfe2-4ce309b16ad0",
   "metadata": {},
   "outputs": [
    {
     "name": "stdout",
     "output_type": "stream",
     "text": [
      "[[ 7  7 17  4]\n",
      " [ 9  9 19  0]]\n"
     ]
    }
   ],
   "source": [
    "A = np.array([ [1, 2, 3], \n",
    "               [3, 2, 1] ])\n",
    "B = np.array([ [2, 3, 4, -2], \n",
    "               [1, -1, 2, 3],\n",
    "               [1, 2, 3, 0] ])\n",
    "\n",
    "print(np.dot(A, B))"
   ]
  },
  {
   "cell_type": "code",
   "execution_count": 16,
   "id": "b407c960-42ed-4cd5-b7f2-d5ff56f6fc9a",
   "metadata": {},
   "outputs": [
    {
     "name": "stdout",
     "output_type": "stream",
     "text": [
      "[[[3 1 2]\n",
      "  [4 2 2]\n",
      "  [2 4 1]]\n",
      "\n",
      " [[3 2 2]\n",
      "  [4 4 3]\n",
      "  [4 1 1]]\n",
      "\n",
      " [[2 2 1]\n",
      "  [3 1 3]\n",
      "  [3 2 3]]] [[[2 3 1]\n",
      "  [2 2 4]\n",
      "  [3 4 4]]\n",
      "\n",
      " [[1 4 1]\n",
      "  [4 1 2]\n",
      "  [4 1 2]]\n",
      "\n",
      " [[1 2 3]\n",
      "  [4 1 1]\n",
      "  [3 1 4]]]\n"
     ]
    }
   ],
   "source": [
    "X = np.array( [[[3, 1, 2],\n",
    "                [4, 2, 2],\n",
    "                [2, 4, 1]],\n",
    "\n",
    "               [[3, 2, 2],\n",
    "                [4, 4, 3],\n",
    "                [4, 1, 1]],\n",
    "\n",
    "               [[2, 2, 1],\n",
    "                [3, 1, 3],\n",
    "                [3, 2, 3]]])\n",
    "\n",
    "Y = np.array( [[[2, 3, 1],\n",
    "                [2, 2, 4],\n",
    "                [3, 4, 4]],\n",
    "            \n",
    "               [[1, 4, 1],\n",
    "                [4, 1, 2],\n",
    "                [4, 1, 2]],\n",
    "            \n",
    "               [[1, 2, 3],\n",
    "                [4, 1, 1],\n",
    "                [3, 1, 4]]])\n",
    "\n",
    "print(X, Y)"
   ]
  },
  {
   "cell_type": "code",
   "execution_count": 17,
   "id": "d7d4733f-13a3-4b98-823e-4cbc48de3f33",
   "metadata": {},
   "outputs": [
    {
     "name": "stdout",
     "output_type": "stream",
     "text": [
      "[[ 2  0 -2]\n",
      " [ 6  4  2]\n",
      " [ 9  6  3]]\n"
     ]
    }
   ],
   "source": [
    "A = np.array([ [1, 2, 3], [2, 2, 2], [3, 3, 3] ])\n",
    "B = np.array([ [3, 2, 1], [1, 2, 3], [-1, -2, -3] ])\n",
    "\n",
    "matA = np.asmatrix(A)\n",
    "matB = np.asmatrix(B)\n",
    "\n",
    "print(matA * matB)"
   ]
  },
  {
   "cell_type": "markdown",
   "id": "d68b3e63-77c2-4434-9508-b3e9650e3436",
   "metadata": {},
   "source": [
    "## Comparison opeators"
   ]
  },
  {
   "cell_type": "code",
   "execution_count": 18,
   "id": "cac0cc7b-582f-4989-96d1-2764616fb0ec",
   "metadata": {},
   "outputs": [
    {
     "data": {
      "text/plain": [
       "array([[ True, False,  True],\n",
       "       [False,  True, False],\n",
       "       [ True,  True, False]])"
      ]
     },
     "execution_count": 18,
     "metadata": {},
     "output_type": "execute_result"
    }
   ],
   "source": [
    "A = np.array([ [11, 12, 13], [21, 22, 23], [31, 32, 33] ])\n",
    "B = np.array([ [11, 102, 13], [201, 22, 203], [31, 32, 303] ])\n",
    "\n",
    "A == B"
   ]
  },
  {
   "cell_type": "markdown",
   "id": "d57d2e7e-36c4-48cc-a791-5c1bbd65d0ce",
   "metadata": {},
   "source": [
    "## Logical operators"
   ]
  },
  {
   "cell_type": "code",
   "execution_count": 19,
   "id": "f65440d0-34a9-45f6-ac8f-54bbeaa82973",
   "metadata": {},
   "outputs": [
    {
     "name": "stdout",
     "output_type": "stream",
     "text": [
      "[[ True  True]\n",
      " [ True False]]\n",
      "[[ True False]\n",
      " [False False]]\n"
     ]
    }
   ],
   "source": [
    "a = np.array([ [True, True], [False, False]])\n",
    "b = np.array([ [True, False], [True, False]])\n",
    "\n",
    "print(np.logical_or(a, b))\n",
    "print(np.logical_and(a, b))"
   ]
  },
  {
   "cell_type": "markdown",
   "id": "7275b11f-96f6-476d-bf82-74046d4ed2e4",
   "metadata": {},
   "source": [
    "## Broadcasting"
   ]
  },
  {
   "cell_type": "code",
   "execution_count": 20,
   "id": "f8d1bd17-730d-41e8-81ff-5e399bd4fb62",
   "metadata": {},
   "outputs": [
    {
     "name": "stdout",
     "output_type": "stream",
     "text": [
      "[[11 24 39]\n",
      " [21 44 69]\n",
      " [31 64 99]]\n",
      "[[12 14 16]\n",
      " [22 24 26]\n",
      " [32 34 36]]\n",
      "[[1]\n",
      " [2]\n",
      " [3]]\n",
      "[[1]\n",
      " [2]\n",
      " [3]]\n",
      "[[1 2 3]\n",
      " [1 2 3]\n",
      " [1 2 3]]\n"
     ]
    }
   ],
   "source": [
    "A = np.array([ [11, 12, 13], [21, 22, 23], [31, 32, 33] ])\n",
    "B = np.array([1, 2, 3])\n",
    "\n",
    "print(A * B)\n",
    "print(A + B)\n",
    "print(B[:, np.newaxis])\n",
    "print(np.array([[1,2,3]]).transpose())\n",
    "print(np.tile(B, (3,1)))"
   ]
  },
  {
   "cell_type": "markdown",
   "id": "54a2ed84-82e7-4eeb-b6f8-d4cebd3282bc",
   "metadata": {},
   "source": [
    "## Distance Matrix"
   ]
  },
  {
   "cell_type": "code",
   "execution_count": 21,
   "id": "e34c8ac3-b120-4134-9654-104e7c340f19",
   "metadata": {},
   "outputs": [
    {
     "name": "stdout",
     "output_type": "stream",
     "text": [
      "[   0 1498 1063 1968 1498 1758 1469 1472 2230 2391 1138  505]\n",
      "[[   0 1498 1063 1968 1498 1758 1469 1472 2230 2391 1138  505]\n",
      " [1498    0  435  470    0  260   29   26  732  893  360  993]\n",
      " [1063  435    0  905  435  695  406  409 1167 1328   75  558]\n",
      " [1968  470  905    0  470  210  499  496  262  423  830 1463]\n",
      " [1498    0  435  470    0  260   29   26  732  893  360  993]\n",
      " [1758  260  695  210  260    0  289  286  472  633  620 1253]\n",
      " [1469   29  406  499   29  289    0    3  761  922  331  964]\n",
      " [1472   26  409  496   26  286    3    0  758  919  334  967]\n",
      " [2230  732 1167  262  732  472  761  758    0  161 1092 1725]\n",
      " [2391  893 1328  423  893  633  922  919  161    0 1253 1886]\n",
      " [1138  360   75  830  360  620  331  334 1092 1253    0  633]\n",
      " [ 505  993  558 1463  993 1253  964  967 1725 1886  633    0]]\n"
     ]
    }
   ],
   "source": [
    "cities = [\"Barcelona\", \"Berlin\", \"Brussels\", \"Bucharest\",\n",
    "          \"Budapest\", \"Copenhagen\", \"Dublin\", \"Hamburg\", \"Istanbul\",\n",
    "          \"Kiev\", \"London\", \"Madrid\", \"Milan\", \"Moscow\", \"Munich\",\n",
    "          \"Paris\", \"Prague\", \"Rome\", \"Saint Petersburg\", \n",
    "          \"Stockholm\", \"Vienna\", \"Warsaw\"]\n",
    "\n",
    "dist2barcelona = [0,  1498, 1063, 1968, \n",
    "                  1498, 1758, 1469, 1472, 2230, \n",
    "                  2391, 1138, 505, 725, 3007, 1055, \n",
    "                  833, 1354, 857, 2813, \n",
    "                  2277, 1347, 1862]\n",
    "\n",
    "dist = np.array(dist2barcelona[:12])\n",
    "print(dist)\n",
    "print( np.abs(dist - dist[:, np.newaxis]) )"
   ]
  },
  {
   "cell_type": "markdown",
   "id": "8b63c55f-dca5-49ea-8c42-1165ad284cd6",
   "metadata": {},
   "source": [
    "## 3-dimensional broadcasting"
   ]
  },
  {
   "cell_type": "code",
   "execution_count": 24,
   "id": "5a9c97d0-8cb1-4700-ba0b-e2573fc4b527",
   "metadata": {},
   "outputs": [
    {
     "name": "stdout",
     "output_type": "stream",
     "text": [
      "(3,)\n",
      "[1 2 3] \n",
      "\n",
      "(1, 3)\n",
      "[[1 2 3]] \n",
      "\n",
      "(3, 3)\n",
      "[[1 1 1]\n",
      " [2 2 2]\n",
      " [3 3 3]] \n",
      "\n",
      "(3, 1, 3)\n",
      "[[[1 1 1]]\n",
      "\n",
      " [[2 2 2]]\n",
      "\n",
      " [[3 3 3]]] \n",
      "\n",
      "[[[ 3  4  7]\n",
      "  [ 5  0 -1]\n",
      "  [ 2  1  5]]\n",
      "\n",
      " [[ 2  0 -2]\n",
      "  [16  4  8]\n",
      "  [10  4  2]]\n",
      "\n",
      " [[ 6  3  9]\n",
      "  [ 3 27 12]\n",
      "  [15 -6 12]]]\n"
     ]
    }
   ],
   "source": [
    "A = np.array([ [[3, 4, 7], [5, 0, -1] , [2, 1, 5]],\n",
    "      [[1, 0, -1], [8, 2, 4], [5, 2, 1]],\n",
    "      [[2, 1, 3], [1, 9, 4], [5, -2, 4]]])\n",
    "\n",
    "B = np.array([1, 2, 3])\n",
    "print(B.shape)\n",
    "print(B, \"\\n\")\n",
    "\n",
    "B = B[np.newaxis, :]\n",
    "print(B.shape)\n",
    "print(B, \"\\n\")\n",
    "\n",
    "B = np.concatenate((B, B, B)).transpose()\n",
    "print(B.shape)\n",
    "print(B, \"\\n\")\n",
    "\n",
    "B = B[:, np.newaxis]\n",
    "print(B.shape)\n",
    "print(B, \"\\n\")\n",
    "\n",
    "print(A*B)"
   ]
  },
  {
   "cell_type": "markdown",
   "id": "231f8395-148e-4f05-9b2a-09b6ee3f8fc9",
   "metadata": {},
   "source": [
    "## Flatten and Reshape Arrays"
   ]
  },
  {
   "cell_type": "code",
   "execution_count": 28,
   "id": "9e7e2a47-e748-4cc3-8588-404eed7bb673",
   "metadata": {},
   "outputs": [
    {
     "name": "stdout",
     "output_type": "stream",
     "text": [
      "[ 0  1  2  3  4  5  6  7  8  9 10 11 12 13 14 15 16 17 18 19 20 21 22 23]\n",
      "[ 0  1  2  3  4  5  6  7  8  9 10 11 12 13 14 15 16 17 18 19 20 21 22 23]\n",
      "[ 0  8 16  2 10 18  4 12 20  6 14 22  1  9 17  3 11 19  5 13 21  7 15 23]\n",
      "[ 0  1  2  3  4  5  6  7  8  9 10 11 12 13 14 15 16 17 18 19 20 21 22 23]\n"
     ]
    }
   ],
   "source": [
    "A = np.array([[[ 0,  1],\n",
    "               [ 2,  3],\n",
    "               [ 4,  5],\n",
    "               [ 6,  7]],\n",
    "              [[ 8,  9],\n",
    "               [10, 11],\n",
    "               [12, 13],\n",
    "               [14, 15]],\n",
    "              [[16, 17],\n",
    "               [18, 19],\n",
    "               [20, 21],\n",
    "               [22, 23]]])\n",
    "\n",
    "flatMatrix = A.flatten()\n",
    "print(flatMatrix)\n",
    "\n",
    "print(A.flatten(order=\"C\"))\n",
    "print(A.flatten(order=\"F\"))\n",
    "print(A.flatten(order=\"A\"))"
   ]
  },
  {
   "cell_type": "code",
   "execution_count": 29,
   "id": "bbfaf6c3-2324-410b-bef1-74384b9bed5c",
   "metadata": {},
   "outputs": [
    {
     "name": "stdout",
     "output_type": "stream",
     "text": [
      "[ 0  1  2  3  4  5  6  7  8  9 10 11 12 13 14 15 16 17 18 19 20 21 22 23]\n",
      "[ 0  1  2  3  4  5  6  7  8  9 10 11 12 13 14 15 16 17 18 19 20 21 22 23]\n",
      "[ 0  8 16  2 10 18  4 12 20  6 14 22  1  9 17  3 11 19  5 13 21  7 15 23]\n",
      "[ 0  1  2  3  4  5  6  7  8  9 10 11 12 13 14 15 16 17 18 19 20 21 22 23]\n",
      "[ 0  1  2  3  4  5  6  7  8  9 10 11 12 13 14 15 16 17 18 19 20 21 22 23]\n"
     ]
    }
   ],
   "source": [
    "print(A.ravel())\n",
    "print(A.ravel(order=\"A\"))\n",
    "print(A.ravel(order=\"F\"))\n",
    "print(A.ravel(order=\"A\"))\n",
    "print(A.ravel(order=\"K\"))"
   ]
  },
  {
   "cell_type": "code",
   "execution_count": 31,
   "id": "f11a880e-2295-4d02-86a9-c45a3dc64129",
   "metadata": {},
   "outputs": [
    {
     "name": "stdout",
     "output_type": "stream",
     "text": [
      "[ 0  1  2  3  4  5  6  7  8  9 10 11 12 13 14 15 16 17 18 19 20 21 22 23]\n",
      "[[[ 0  1]\n",
      "  [ 2  3]\n",
      "  [ 4  5]\n",
      "  [ 6  7]]\n",
      "\n",
      " [[ 8  9]\n",
      "  [10 11]\n",
      "  [12 13]\n",
      "  [14 15]]\n",
      "\n",
      " [[16 17]\n",
      "  [18 19]\n",
      "  [20 21]\n",
      "  [22 23]]]\n"
     ]
    }
   ],
   "source": [
    "X = np.array(range(24))\n",
    "Y = X.reshape((3,4,2))\n",
    "print(X)\n",
    "print(Y)"
   ]
  },
  {
   "cell_type": "markdown",
   "id": "e0649f44-c41c-4695-a4d4-dea534ce5d1b",
   "metadata": {},
   "source": [
    "## Concatening arrays"
   ]
  },
  {
   "cell_type": "code",
   "execution_count": 36,
   "id": "504735c5-b4d2-446f-a25d-4a4549698efb",
   "metadata": {},
   "outputs": [
    {
     "name": "stdout",
     "output_type": "stream",
     "text": [
      "[11 22 18  7  6  1  3  5]\n"
     ]
    }
   ],
   "source": [
    "x = np.array([11,22])\n",
    "y = np.array([18,7,6])\n",
    "z = np.array([1,3,5])\n",
    "\n",
    "print(np.concatenate((x,y,z)))"
   ]
  },
  {
   "cell_type": "code",
   "execution_count": 39,
   "id": "3f45d820-dcc8-4593-8586-5e29fbcb0187",
   "metadata": {},
   "outputs": [
    {
     "name": "stdout",
     "output_type": "stream",
     "text": [
      "[[[  0   1]\n",
      "  [  2   3]\n",
      "  [  4   5]\n",
      "  [  6   7]]\n",
      "\n",
      " [[  8   9]\n",
      "  [ 10  11]\n",
      "  [ 12  13]\n",
      "  [ 14  15]]\n",
      "\n",
      " [[ 16  17]\n",
      "  [ 18  19]\n",
      "  [ 20  21]\n",
      "  [ 22  23]]\n",
      "\n",
      " [[100 101]\n",
      "  [102 103]\n",
      "  [104 105]\n",
      "  [106 107]]\n",
      "\n",
      " [[108 109]\n",
      "  [110 111]\n",
      "  [112 113]\n",
      "  [114 115]]\n",
      "\n",
      " [[116 117]\n",
      "  [118 119]\n",
      "  [120 121]\n",
      "  [122 123]]]\n"
     ]
    }
   ],
   "source": [
    "x = np.array(range(24))\n",
    "x = x.reshape((3,4,2))\n",
    "y = np.array(range(100,124))\n",
    "y = y.reshape((3,4,2))\n",
    "z = np.concatenate((x,y))\n",
    "print(z)"
   ]
  },
  {
   "cell_type": "code",
   "execution_count": 41,
   "id": "74d3bdc6-0fc4-4c15-9356-d9161a151f1d",
   "metadata": {},
   "outputs": [
    {
     "name": "stdout",
     "output_type": "stream",
     "text": [
      "[[[  0   1]\n",
      "  [  2   3]\n",
      "  [  4   5]\n",
      "  [  6   7]\n",
      "  [100 101]\n",
      "  [102 103]\n",
      "  [104 105]\n",
      "  [106 107]]\n",
      "\n",
      " [[  8   9]\n",
      "  [ 10  11]\n",
      "  [ 12  13]\n",
      "  [ 14  15]\n",
      "  [108 109]\n",
      "  [110 111]\n",
      "  [112 113]\n",
      "  [114 115]]\n",
      "\n",
      " [[ 16  17]\n",
      "  [ 18  19]\n",
      "  [ 20  21]\n",
      "  [ 22  23]\n",
      "  [116 117]\n",
      "  [118 119]\n",
      "  [120 121]\n",
      "  [122 123]]]\n"
     ]
    }
   ],
   "source": [
    "# changing axis\n",
    "z = np.concatenate((x,y),axis = 1)\n",
    "print(z)"
   ]
  },
  {
   "cell_type": "markdown",
   "id": "4eea3a6e-b23e-479a-8521-5e697ee3e70f",
   "metadata": {},
   "source": [
    "## Vector Stacking"
   ]
  },
  {
   "cell_type": "code",
   "execution_count": 55,
   "id": "8ac8bfba-b182-45b0-b344-53d7a2ec851c",
   "metadata": {},
   "outputs": [
    {
     "name": "stdout",
     "output_type": "stream",
     "text": [
      "[[3 4 5]\n",
      " [1 9 0]]\n",
      "[[3 1]\n",
      " [4 9]\n",
      " [5 0]]\n"
     ]
    }
   ],
   "source": [
    "A = np.array([3, 4, 5])\n",
    "B = np.array([1,9,0])\n",
    "\n",
    "print(np.vstack((A, B)))\n",
    "print(np.column_stack((A, B)))"
   ]
  },
  {
   "cell_type": "code",
   "execution_count": 59,
   "id": "a5ae2bd6-d931-4215-b1d8-2057024137c2",
   "metadata": {},
   "outputs": [
    {
     "data": {
      "text/plain": [
       "array([[3, 4, 5, 3, 4, 5, 3, 4, 5],\n",
       "       [1, 9, 0, 1, 9, 0, 1, 9, 0],\n",
       "       [4, 6, 8, 4, 6, 8, 4, 6, 8]])"
      ]
     },
     "execution_count": 59,
     "metadata": {},
     "output_type": "execute_result"
    }
   ],
   "source": [
    "A = np.array([[3, 4, 5],\n",
    "              [1, 9, 0],\n",
    "              [4, 6, 8]])\n",
    "np.column_stack((A, A, A))"
   ]
  },
  {
   "cell_type": "markdown",
   "id": "6173ca45-eab2-4b41-98e5-afd7e2d20461",
   "metadata": {},
   "source": [
    "## Repeting patterns with tile"
   ]
  },
  {
   "cell_type": "code",
   "execution_count": 60,
   "id": "86fcd054-19f8-45b0-8376-bb786dc8100e",
   "metadata": {},
   "outputs": [
    {
     "data": {
      "text/plain": [
       "array([[1, 2, 1, 2, 1, 2, 1, 2],\n",
       "       [3, 4, 3, 4, 3, 4, 3, 4],\n",
       "       [1, 2, 1, 2, 1, 2, 1, 2],\n",
       "       [3, 4, 3, 4, 3, 4, 3, 4],\n",
       "       [1, 2, 1, 2, 1, 2, 1, 2],\n",
       "       [3, 4, 3, 4, 3, 4, 3, 4]])"
      ]
     },
     "execution_count": 60,
     "metadata": {},
     "output_type": "execute_result"
    }
   ],
   "source": [
    "x = np.array([ [1, 2], [3, 4]])\n",
    "np.tile(x, (3,4))"
   ]
  }
 ],
 "metadata": {
  "kernelspec": {
   "display_name": "Python 3 (ipykernel)",
   "language": "python",
   "name": "python3"
  },
  "language_info": {
   "codemirror_mode": {
    "name": "ipython",
    "version": 3
   },
   "file_extension": ".py",
   "mimetype": "text/x-python",
   "name": "python",
   "nbconvert_exporter": "python",
   "pygments_lexer": "ipython3",
   "version": "3.13.5"
  }
 },
 "nbformat": 4,
 "nbformat_minor": 5
}
