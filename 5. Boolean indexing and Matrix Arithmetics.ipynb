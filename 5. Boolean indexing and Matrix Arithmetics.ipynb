{
 "cells": [
  {
   "cell_type": "code",
   "execution_count": 31,
   "id": "c4359206-ada9-438b-a616-575e281d633e",
   "metadata": {},
   "outputs": [],
   "source": [
    "import numpy as np"
   ]
  },
  {
   "cell_type": "markdown",
   "id": "3ed639ce-fcd3-4b05-a517-3d77d3b263b2",
   "metadata": {},
   "source": [
    "## Boolean Indexing"
   ]
  },
  {
   "cell_type": "code",
   "execution_count": 32,
   "id": "d22a27c5-7871-44b8-9e6d-173b6751bfec",
   "metadata": {},
   "outputs": [
    {
     "name": "stdout",
     "output_type": "stream",
     "text": [
      "[ True False False  True False False]\n"
     ]
    }
   ],
   "source": [
    "A = np.array([4, 7, 3, 4, 2, 8])\n",
    "\n",
    "print(A == 4)"
   ]
  },
  {
   "cell_type": "code",
   "execution_count": 33,
   "id": "0e480183-bc66-4351-a895-621b32dececa",
   "metadata": {},
   "outputs": [
    {
     "name": "stdout",
     "output_type": "stream",
     "text": [
      "[[ True  True  True  True]\n",
      " [ True  True  True False]\n",
      " [ True  True False False]]\n"
     ]
    }
   ],
   "source": [
    "B = np.array([[42,56,89,65],\n",
    "              [99,88,42,12],\n",
    "              [55,42,17,18]])\n",
    "\n",
    "print(B>=42)"
   ]
  },
  {
   "cell_type": "code",
   "execution_count": 34,
   "id": "8f460def-6cb6-4a88-a933-32bff0b34b90",
   "metadata": {},
   "outputs": [
    {
     "data": {
      "text/plain": [
       "array([[1, 1, 1, 1, 0, 1, 1, 1, 1],\n",
       "       [1, 1, 1, 0, 0, 0, 1, 1, 1],\n",
       "       [1, 1, 1, 0, 1, 0, 1, 1, 1],\n",
       "       [1, 1, 0, 0, 1, 0, 0, 1, 1],\n",
       "       [1, 1, 0, 1, 1, 1, 0, 1, 1],\n",
       "       [1, 0, 0, 1, 1, 1, 0, 0, 1],\n",
       "       [1, 0, 1, 1, 1, 1, 1, 0, 1],\n",
       "       [1, 0, 1, 1, 1, 1, 1, 0, 1],\n",
       "       [1, 0, 1, 1, 1, 1, 1, 0, 1],\n",
       "       [1, 0, 0, 0, 0, 0, 0, 0, 1],\n",
       "       [1, 0, 1, 1, 1, 1, 1, 0, 1],\n",
       "       [1, 0, 1, 1, 1, 1, 1, 0, 1],\n",
       "       [1, 0, 1, 1, 1, 1, 1, 0, 1],\n",
       "       [1, 0, 1, 1, 1, 1, 1, 0, 1],\n",
       "       [1, 0, 1, 1, 1, 1, 1, 0, 1]], dtype=int8)"
      ]
     },
     "execution_count": 34,
     "metadata": {},
     "output_type": "execute_result"
    }
   ],
   "source": [
    "A = np.array([\n",
    "[12, 13, 14, 12, 16, 14, 11, 10,  9],\n",
    "[11, 14, 12, 15, 15, 16, 10, 12, 11],\n",
    "[10, 12, 12, 15, 14, 16, 10, 12, 12],\n",
    "[ 9, 11, 16, 15, 14, 16, 15, 12, 10],\n",
    "[12, 11, 16, 14, 10, 12, 16, 12, 13],\n",
    "[10, 15, 16, 14, 14, 14, 16, 15, 12],\n",
    "[13, 17, 14, 10, 14, 11, 14, 15, 10],\n",
    "[10, 16, 12, 14, 11, 12, 14, 18, 11],\n",
    "[10, 19, 12, 14, 11, 12, 14, 18, 10],\n",
    "[14, 22, 17, 19, 16, 17, 18, 17, 13],\n",
    "[10, 16, 12, 14, 11, 12, 14, 18, 11],\n",
    "[10, 16, 12, 14, 11, 12, 14, 18, 11],\n",
    "[10, 19, 12, 14, 11, 12, 14, 18, 10],\n",
    "[14, 22, 12, 14, 11, 12, 14, 17, 13],\n",
    "[10, 16, 12, 14, 11, 12, 14, 18, 11]])\n",
    "\n",
    "B = A < 15\n",
    "B.astype(np.int8)"
   ]
  },
  {
   "cell_type": "markdown",
   "id": "0bd059b0-5028-4d61-9771-bbd18d2a9b99",
   "metadata": {},
   "source": [
    "## Fancy Indexing and Indexing with an Integer Array"
   ]
  },
  {
   "cell_type": "code",
   "execution_count": 35,
   "id": "96c0aca7-1e7c-4c0c-a246-132bd5925179",
   "metadata": {},
   "outputs": [
    {
     "name": "stdout",
     "output_type": "stream",
     "text": [
      "[123 190 100]\n"
     ]
    }
   ],
   "source": [
    "C = np.array([123,188,190,99,77,88,100])\n",
    "A = np.array([4,7,2,8,6,9,5])\n",
    "\n",
    "R = C[A<=5]\n",
    "print(R)"
   ]
  },
  {
   "cell_type": "code",
   "execution_count": 36,
   "id": "7cbc91d8-84e2-4b9b-a47e-4d5cfb607bc1",
   "metadata": {},
   "outputs": [
    {
     "data": {
      "text/plain": [
       "array([123, 190,  99, 188,  77, 188])"
      ]
     },
     "execution_count": 36,
     "metadata": {},
     "output_type": "execute_result"
    }
   ],
   "source": [
    "C[[0, 2, 3, 1, 4, 1]]"
   ]
  },
  {
   "cell_type": "markdown",
   "id": "f15ca39a-fca6-4afd-98b4-3d943aa5d19f",
   "metadata": {},
   "source": [
    "## Nonzero and where"
   ]
  },
  {
   "cell_type": "code",
   "execution_count": 37,
   "id": "33997317-345b-49d4-907d-5f3afeaafd9d",
   "metadata": {},
   "outputs": [
    {
     "name": "stdout",
     "output_type": "stream",
     "text": [
      "[2 3 1 1 7 5 1]\n",
      "(array([0, 0, 0, 1, 1, 2, 2]), array([1, 2, 4, 0, 3, 0, 3]))\n",
      "[[0 1]\n",
      " [0 2]\n",
      " [0 4]\n",
      " [1 0]\n",
      " [1 3]\n",
      " [2 0]\n",
      " [2 3]]\n"
     ]
    }
   ],
   "source": [
    "a = np.array([[0, 2, 3, 0, 1],\n",
    "              [1, 0, 0, 7, 0],\n",
    "              [5, 0, 0, 1, 0]])\n",
    "\n",
    "print(a[a.nonzero()])\n",
    "print(a.nonzero())\n",
    "print(np.transpose(a.nonzero()))"
   ]
  },
  {
   "cell_type": "code",
   "execution_count": 38,
   "id": "659210cd-9740-48fc-9eca-58de81c9ac33",
   "metadata": {},
   "outputs": [
    {
     "name": "stdout",
     "output_type": "stream",
     "text": [
      "[[ True  True  True  True]\n",
      " [ True  True  True False]\n",
      " [ True  True False False]]\n"
     ]
    }
   ],
   "source": [
    "B = np.array([[42,56,89,65],\n",
    "              [99,88,42,12],\n",
    "              [55,42,17,18]])\n",
    "\n",
    "print(B >= 42)"
   ]
  },
  {
   "cell_type": "code",
   "execution_count": 39,
   "id": "fdac84e0-6415-4b29-ae44-6d2b76416a26",
   "metadata": {},
   "outputs": [
    {
     "name": "stdout",
     "output_type": "stream",
     "text": [
      "(array([ 2,  3,  5,  7, 11, 13, 17, 19, 23, 29, 31, 37, 41, 43, 47, 53, 59,\n",
      "       61, 67, 71, 73, 79, 83, 89, 97]),)\n"
     ]
    }
   ],
   "source": [
    "import numpy as np\n",
    "\n",
    "is_prime = np.ones((100,), dtype=bool)\n",
    "\n",
    "is_prime[:2] = 0\n",
    "\n",
    "nmax = int(np.sqrt(len(is_prime)))\n",
    "for i in range(2, nmax):\n",
    "    is_prime[2*i::i] = False\n",
    "\n",
    "print(np.nonzero(is_prime))"
   ]
  },
  {
   "cell_type": "markdown",
   "id": "c7d402dd-b66f-4851-90b7-8431c59600f1",
   "metadata": {},
   "source": [
    "# Vector Operations"
   ]
  },
  {
   "cell_type": "code",
   "execution_count": 40,
   "id": "a36acaa1-081c-4895-8cca-f314f80dddf2",
   "metadata": {},
   "outputs": [],
   "source": [
    "x = np.array([1, 5, 2])\n",
    "y = np.array([7, 4, 1])"
   ]
  },
  {
   "cell_type": "code",
   "execution_count": 41,
   "id": "e9f86799-acd1-4e5e-99b5-e31d1371c4a2",
   "metadata": {},
   "outputs": [
    {
     "name": "stdout",
     "output_type": "stream",
     "text": [
      "[8 9 3]\n",
      "[-6  1  1]\n",
      "[ 7 20  2]\n",
      "[1 1 0]\n"
     ]
    }
   ],
   "source": [
    "print( x + y )\n",
    "print( x - y )\n",
    "print( x * y )\n",
    "print( x % y )"
   ]
  },
  {
   "cell_type": "markdown",
   "id": "715f40f0-2c0c-4eba-94a1-8ebcbe43dbc1",
   "metadata": {},
   "source": [
    "## Dot Product"
   ]
  },
  {
   "cell_type": "code",
   "execution_count": 43,
   "id": "7d36c025-3385-4d59-a843-ec48e23bf3c8",
   "metadata": {},
   "outputs": [
    {
     "name": "stdout",
     "output_type": "stream",
     "text": [
      "29\n"
     ]
    },
    {
     "data": {
      "text/plain": [
       "np.float64(0.860937724714075)"
      ]
     },
     "execution_count": 43,
     "metadata": {},
     "output_type": "execute_result"
    }
   ],
   "source": [
    "print(np.dot(x, y))\n",
    "dot = np.dot(x ,y)\n",
    "x_modulus = np.sqrt((x*x).sum())\n",
    "y_modulus = np.sqrt((y*y).sum())\n",
    "cos_angle = dot / x_modulus / y_modulus\n",
    "angle = np.arccos(cos_angle)\n",
    "angle"
   ]
  },
  {
   "cell_type": "markdown",
   "id": "704ad9e5-fb09-4119-8b5d-fa1cfafc3275",
   "metadata": {},
   "source": [
    "## Matrix Product"
   ]
  },
  {
   "cell_type": "code",
   "execution_count": 45,
   "id": "15a19c79-768d-46c1-94b3-04fa43817f8d",
   "metadata": {},
   "outputs": [
    {
     "name": "stdout",
     "output_type": "stream",
     "text": [
      "[[17  1]\n",
      " [28  1]]\n"
     ]
    }
   ],
   "source": [
    "x = np.array( ((2,3), (3, 5)) )\n",
    "y = np.matrix( ((1,2), (5, -1)) )\n",
    "print(np.dot(x,y))"
   ]
  },
  {
   "cell_type": "code",
   "execution_count": 47,
   "id": "7cc94337-22dc-4de5-b7bd-7aa945fd1382",
   "metadata": {},
   "outputs": [
    {
     "name": "stdout",
     "output_type": "stream",
     "text": [
      "[-1  0  0]\n",
      "[1 0 0]\n"
     ]
    }
   ],
   "source": [
    "x = np.array([0, 0, 1])\n",
    "y = np.array([0, 1, 0])\n",
    "\n",
    "print(np.cross(x, y))\n",
    "print(np.cross(y, x))"
   ]
  }
 ],
 "metadata": {
  "kernelspec": {
   "display_name": "Python 3 (ipykernel)",
   "language": "python",
   "name": "python3"
  },
  "language_info": {
   "codemirror_mode": {
    "name": "ipython",
    "version": 3
   },
   "file_extension": ".py",
   "mimetype": "text/x-python",
   "name": "python",
   "nbconvert_exporter": "python",
   "pygments_lexer": "ipython3",
   "version": "3.13.5"
  }
 },
 "nbformat": 4,
 "nbformat_minor": 5
}
