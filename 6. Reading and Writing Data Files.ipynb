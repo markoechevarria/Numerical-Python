{
 "cells": [
  {
   "cell_type": "code",
   "execution_count": 14,
   "id": "a77e2df3-69a0-437d-af45-3bf1b4adad4a",
   "metadata": {},
   "outputs": [],
   "source": [
    "import numpy as np"
   ]
  },
  {
   "cell_type": "markdown",
   "id": "f23f8d17-27a6-45eb-8ea2-cb83f71c0044",
   "metadata": {},
   "source": [
    "## Saving textfiles with savetxt"
   ]
  },
  {
   "cell_type": "code",
   "execution_count": 15,
   "id": "70c8ca27-12ed-4d82-914f-ad90bc6d3750",
   "metadata": {},
   "outputs": [],
   "source": [
    "x = np.array([[1, 2, 3], \n",
    "              [4, 5, 6],\n",
    "              [7, 8, 9]], np.int32)\n",
    "\n",
    "# np.savetxt(\"arrays.txt\", x)\n",
    "np.savetxt(\"arrays.txt\", x, fmt='%2.2f', delimiter=',')\n",
    "# Complete sintax format\n",
    "# savetxt(fname, X, fmt='%.18e', delimiter=' ', newline='\\n', header='', footer='', comments='# ')"
   ]
  },
  {
   "cell_type": "markdown",
   "id": "c71ec8db-c1ac-4000-9935-64649310937c",
   "metadata": {},
   "source": [
    "## Loading Textfiles with loadtxt"
   ]
  },
  {
   "cell_type": "code",
   "execution_count": 16,
   "id": "76bc7692-2e86-4434-91c5-0025a825140e",
   "metadata": {},
   "outputs": [
    {
     "name": "stdout",
     "output_type": "stream",
     "text": [
      "[[1. 2. 3.]\n",
      " [4. 5. 6.]\n",
      " [7. 8. 9.]]\n"
     ]
    }
   ],
   "source": [
    "y = np.loadtxt(\"arrays.txt\", delimiter=\",\")\n",
    "# y = np.loadtxt(\"arrays.txt\", delimiter=\",\", usecols=(0,2))\n",
    "print(y)"
   ]
  },
  {
   "cell_type": "markdown",
   "id": "648447be-3e6f-460c-9ac5-dd240566d05d",
   "metadata": {},
   "source": [
    "## tofile"
   ]
  },
  {
   "cell_type": "code",
   "execution_count": 29,
   "id": "5d0cca3d-e0fa-4922-9873-01c13c1ea1ac",
   "metadata": {},
   "outputs": [
    {
     "name": "stdout",
     "output_type": "stream",
     "text": [
      "[((10, 0), 98.25)]\n"
     ]
    }
   ],
   "source": [
    "dt = np.dtype([('time', [('min', int), ('sec', int)]), ('temp', float)])\n",
    "x = np.zeros((1,), dtype=dt)\n",
    "x['time']['min'] = 10\n",
    "x['temp'] = 98.25\n",
    "print(x)\n",
    "\n",
    "fh = open(\"test.txt\", \"bw\")\n",
    "x.tofile(fh)"
   ]
  },
  {
   "cell_type": "markdown",
   "id": "2a66ca11-6323-4c0a-b4dd-927c3b451d30",
   "metadata": {},
   "source": [
    "## fromfile"
   ]
  },
  {
   "cell_type": "code",
   "execution_count": 27,
   "id": "4c1a267a-29b8-4b75-b708-68c3fc56d2d6",
   "metadata": {},
   "outputs": [
    {
     "data": {
      "text/plain": [
       "array([((3471767528117644849, 3749862623231028272), 1.39737515e-76)],\n",
       "      dtype=[('time', [('min', '<i8'), ('sec', '<i8')]), ('temp', '<f8')])"
      ]
     },
     "execution_count": 27,
     "metadata": {},
     "output_type": "execute_result"
    }
   ],
   "source": [
    "# Sintax: numpy.fromfile(file, dtype=float, count=-1, sep='')\n",
    "fh = open(\"arrays.txt\", \"rb\")\n",
    "np.fromfile(fh, dtype=dt)"
   ]
  },
  {
   "cell_type": "markdown",
   "id": "9318f379-89c2-42af-b7ae-e23a13a0b0eb",
   "metadata": {},
   "source": [
    "## Best Practice to Load and Save Data"
   ]
  },
  {
   "cell_type": "code",
   "execution_count": 28,
   "id": "a57acb64-f660-4915-ae96-6ab61d9e5c57",
   "metadata": {},
   "outputs": [
    {
     "name": "stdout",
     "output_type": "stream",
     "text": [
      "[((10, 0), 98.25)]\n"
     ]
    },
    {
     "data": {
      "text/plain": [
       "array([0, 1, 2, 3, 4, 5, 6, 7, 8, 9])"
      ]
     },
     "execution_count": 28,
     "metadata": {},
     "output_type": "execute_result"
    }
   ],
   "source": [
    "import numpy as np\n",
    "\n",
    "print(x)\n",
    "\n",
    "from tempfile import TemporaryFile\n",
    "\n",
    "outfile = TemporaryFile()\n",
    "\n",
    "x = np.arange(10)\n",
    "np.save(outfile, x)\n",
    "\n",
    "outfile.seek(0)\n",
    "np.load(outfile)"
   ]
  },
  {
   "cell_type": "markdown",
   "id": "92bcf7e4-2c17-4e0b-a6eb-248ebdd99354",
   "metadata": {},
   "source": [
    "## genfromtxt"
   ]
  },
  {
   "cell_type": "code",
   "execution_count": 32,
   "id": "99995bae-68ef-4a12-93a6-ad0cbc986f59",
   "metadata": {},
   "outputs": [
    {
     "data": {
      "text/plain": [
       "array(['4.00,5.00,6.00', '7.00,8.00,9.00'], dtype='<U14')"
      ]
     },
     "execution_count": 32,
     "metadata": {},
     "output_type": "execute_result"
    }
   ],
   "source": [
    "sales = np.genfromtxt(\"arrays.txt\", encoding='utf8', skip_header = 1, dtype=None)\n",
    "sales"
   ]
  }
 ],
 "metadata": {
  "kernelspec": {
   "display_name": "Python 3 (ipykernel)",
   "language": "python",
   "name": "python3"
  },
  "language_info": {
   "codemirror_mode": {
    "name": "ipython",
    "version": 3
   },
   "file_extension": ".py",
   "mimetype": "text/x-python",
   "name": "python",
   "nbconvert_exporter": "python",
   "pygments_lexer": "ipython3",
   "version": "3.13.5"
  }
 },
 "nbformat": 4,
 "nbformat_minor": 5
}
