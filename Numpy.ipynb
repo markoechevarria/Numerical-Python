{
 "cells": [
  {
   "cell_type": "markdown",
   "id": "61868165-4c43-4389-9a4a-898c915e19ae",
   "metadata": {},
   "source": [
    "### Import numpy and rename it as \"np\"\n",
    "\n",
    "```conda install numpy```"
   ]
  },
  {
   "cell_type": "code",
   "execution_count": 9,
   "id": "371567cb-293e-42f1-ab5d-480a961f1299",
   "metadata": {},
   "outputs": [],
   "source": [
    "import numpy as np"
   ]
  },
  {
   "cell_type": "code",
   "execution_count": 10,
   "id": "3e2e7cda-09dd-415e-9012-82bf5c0a6afc",
   "metadata": {},
   "outputs": [
    {
     "data": {
      "text/plain": [
       "'2.3.1'"
      ]
     },
     "execution_count": 10,
     "metadata": {},
     "output_type": "execute_result"
    }
   ],
   "source": [
    "np.__version__"
   ]
  },
  {
   "cell_type": "markdown",
   "id": "3f4afec4-f570-4bf1-8c02-36bec24233f5",
   "metadata": {},
   "source": [
    "### Creating a array of celsius grade and turn into a np.array "
   ]
  },
  {
   "cell_type": "code",
   "execution_count": 11,
   "id": "da358f52-20ac-4be9-b9f8-72fdebbc0378",
   "metadata": {},
   "outputs": [
    {
     "data": {
      "text/plain": [
       "array([20.1, 20.8, 21.9, 22.5, 22.7, 22.3, 21.8, 21.2, 20.9, 20.1])"
      ]
     },
     "execution_count": 11,
     "metadata": {},
     "output_type": "execute_result"
    }
   ],
   "source": [
    "cvalues = [20.1, 20.8, 21.9, 22.5, 22.7, 22.3, 21.8, 21.2, 20.9, 20.1]\n",
    "nparray = np.array(cvalues)\n",
    "nparray"
   ]
  },
  {
   "cell_type": "markdown",
   "id": "88ec8b20-3a3a-48b2-88f9-3588b0249f9e",
   "metadata": {},
   "source": [
    "### Turn the values into degrees Farenheit\n",
    "$$ f = \\frac{ c \\cdot 9}{5} + 32 $$"
   ]
  },
  {
   "cell_type": "code",
   "execution_count": 12,
   "id": "950bee48-1b1a-4998-8107-0abd7da62501",
   "metadata": {},
   "outputs": [
    {
     "data": {
      "text/plain": [
       "array([68.18, 69.44, 71.42, 72.5 , 72.86, 72.14, 71.24, 70.16, 69.62,\n",
       "       68.18])"
      ]
     },
     "execution_count": 12,
     "metadata": {},
     "output_type": "execute_result"
    }
   ],
   "source": [
    "fvalues = ( nparray * 9 / 5 + 32 )\n",
    "fvalues"
   ]
  },
  {
   "cell_type": "code",
   "execution_count": 13,
   "id": "8b6dff14-bc17-4ac1-a7b6-ed6c2d9efb5d",
   "metadata": {},
   "outputs": [
    {
     "data": {
      "text/plain": [
       "numpy.ndarray"
      ]
     },
     "execution_count": 13,
     "metadata": {},
     "output_type": "execute_result"
    }
   ],
   "source": [
    "type(fvalues)"
   ]
  },
  {
   "cell_type": "code",
   "execution_count": 14,
   "id": "d1a75d6e-4757-482b-a1ec-f532860631bc",
   "metadata": {},
   "outputs": [],
   "source": [
    "import matplotlib.pyplot as plt\n",
    "%matplotlib inline"
   ]
  },
  {
   "cell_type": "code",
   "execution_count": 17,
   "id": "effa21b1-fc1d-480e-a348-5bda46aba349",
   "metadata": {},
   "outputs": [
    {
     "data": {
      "image/png": "[encoded data removed]",
      "text/plain": [
       "<Figure size 640x480 with 1 Axes>"
      ]
     },
     "metadata": {},
     "output_type": "display_data"
    }
   ],
   "source": [
    "plt.plot(fvalues)\n",
    "plt.show()"
   ]
  },
  {
   "cell_type": "markdown",
   "id": "8cb06706-c418-4046-a029-720ae5750c78",
   "metadata": {},
   "source": [
    "### Compare speed performance between numpy and python core "
   ]
  },
  {
   "cell_type": "code",
   "execution_count": 71,
   "id": "eb2308a1-8165-416f-b514-a59a60a32035",
   "metadata": {},
   "outputs": [
    {
     "name": "stdout",
     "output_type": "stream",
     "text": [
      "Time of standard python: $0.016589879989624023\n",
      "Time of numpy: $0.0004782676696777344\n",
      "Numpy is in this example 41.55788096795291 faster.\n"
     ]
    }
   ],
   "source": [
    "import time\n",
    "size_vector = 100000\n",
    "\n",
    "def time_of_python_standard():\n",
    "    time_start = time.time()\n",
    "    vector_a = range(size_vector)\n",
    "    vector_b = range(size_vector)\n",
    "    new_vector = [ vector_a[i] + vector_b[i] for i in range(size_vector) ]\n",
    "    return time.time() - time_start\n",
    "    \n",
    "def time_of_numpy():\n",
    "    time_start = time.time()\n",
    "    vector_a = np.arange(size_vector)\n",
    "    vector_b = np.arange(size_vector)\n",
    "    new_vector = vector_a + vector_b\n",
    "    return time.time() - time_start\n",
    "\n",
    "print(f'Time of standard python: ${time_of_python_standard()}')\n",
    "print(f'Time of numpy: ${time_of_numpy()}')\n",
    "\n",
    "print(f'Numpy is in this example {time_of_python_standard()/time_of_numpy()} faster.')"
   ]
  },
  {
   "cell_type": "markdown",
   "id": "c858a18c-4a28-46ee-b545-174bd1aea69f",
   "metadata": {},
   "source": [
    "### Creation of arrays with arange"
   ]
  },
  {
   "cell_type": "code",
   "execution_count": 110,
   "id": "f32f3a98-1654-49d1-a03e-8a700ae6f6a1",
   "metadata": {},
   "outputs": [
    {
     "name": "stdout",
     "output_type": "stream",
     "text": [
      "[1 2 3 4 5 6 7 8 9]\n",
      "[ 0.  1.  2.  3.  4.  5.  6.  7.  8.  9. 10.]\n",
      "[ 1.2  1.8  2.4  3.   3.6  4.2  4.8  5.4  6.   6.6  7.2  7.8  8.4  9.\n",
      "  9.6 10.2 10.8 11.4 12. ]\n",
      "[ 1.2  1.8  2.4  3.   3.6  4.2  4.8  5.4  6.   6.6  7.2  7.8  8.4  9.\n",
      "  9.6 10.2 10.8]\n",
      "[ 0  1  2  3  4  5  6  7  8  9 10 11 12]\n"
     ]
    }
   ],
   "source": [
    "arange_1 = np.arange(1,10)\n",
    "arange_2 = np.arange(10.4)\n",
    "arange_3 = np.arange(1.2, 12.0, 0.6)\n",
    "arange_4 = np.arange(1.2, 11.2, 0.6)\n",
    "arange_5 = np.arange(0.5, 10.4, 0.8, int)\n",
    "\n",
    "print(arange_1)\n",
    "print(arange_2)\n",
    "print(arange_3)\n",
    "print(arange_4)\n",
    "print(arange_5)"
   ]
  },
  {
   "cell_type": "markdown",
   "id": "e7950cd5-9100-4e05-b4d3-390a52bfa86d",
   "metadata": {},
   "source": [
    "### Creation of arrays with linspace"
   ]
  },
  {
   "cell_type": "code",
   "execution_count": 121,
   "id": "ae7e1630-6bbf-424a-8b83-9478e8f4bd58",
   "metadata": {},
   "outputs": [
    {
     "name": "stdout",
     "output_type": "stream",
     "text": [
      "[ 1.          1.18367347  1.36734694  1.55102041  1.73469388  1.91836735\n",
      "  2.10204082  2.28571429  2.46938776  2.65306122  2.83673469  3.02040816\n",
      "  3.20408163  3.3877551   3.57142857  3.75510204  3.93877551  4.12244898\n",
      "  4.30612245  4.48979592  4.67346939  4.85714286  5.04081633  5.2244898\n",
      "  5.40816327  5.59183673  5.7755102   5.95918367  6.14285714  6.32653061\n",
      "  6.51020408  6.69387755  6.87755102  7.06122449  7.24489796  7.42857143\n",
      "  7.6122449   7.79591837  7.97959184  8.16326531  8.34693878  8.53061224\n",
      "  8.71428571  8.89795918  9.08163265  9.26530612  9.44897959  9.63265306\n",
      "  9.81632653 10.        ]\n",
      "0.5 \t [ 1.   1.5  2.   2.5  3.   3.5  4.   4.5  5.   5.5  6.   6.5  7.   7.5\n",
      "  8.   8.5  9.   9.5 10. ]\n",
      "0.47368421052631576 \t [1.         1.47368421 1.94736842 2.42105263 2.89473684 3.36842105\n",
      " 3.84210526 4.31578947 4.78947368 5.26315789 5.73684211 6.21052632\n",
      " 6.68421053 7.15789474 7.63157895 8.10526316 8.57894737 9.05263158\n",
      " 9.52631579]\n"
     ]
    }
   ],
   "source": [
    "linespace_1 = np.linspace(1, 10)\n",
    "space_2, linespace_2 = np.linspace(1, 10, 19, retstep=True)\n",
    "space_3, linespace_3 = np.linspace(1, 10, 19, endpoint=False, retstep=True)\n",
    "\n",
    "print(linespace_1)\n",
    "print(linespace_2, \"\\t\", space_2)\n",
    "print(linespace_3, \"\\t\", space_3)"
   ]
  },
  {
   "cell_type": "markdown",
   "id": "28650c9e-e9af-4ef2-8ade-d8e2cad099d4",
   "metadata": {},
   "source": [
    "### Zero dimensional array "
   ]
  },
  {
   "cell_type": "code",
   "execution_count": 129,
   "id": "5d51e08f-7ee5-496d-8644-c74168e89f73",
   "metadata": {},
   "outputs": [
    {
     "name": "stdout",
     "output_type": "stream",
     "text": [
      "Dimensions of x:  0 0\n",
      "The type of x:  <class 'numpy.ndarray'>\n"
     ]
    }
   ],
   "source": [
    "x = np.array(30)\n",
    "\n",
    "print(\"Dimensions of x: \", np.ndim(x), x.ndim)\n",
    "print(\"The type of x: \", type(x))"
   ]
  },
  {
   "cell_type": "markdown",
   "id": "9d4fabd3-41d3-4619-a57d-b8303d5e0e9d",
   "metadata": {},
   "source": [
    "### One, two and multidimensional array"
   ]
  },
  {
   "cell_type": "code",
   "execution_count": 136,
   "id": "eb983007-53ab-4cf4-b71c-b3a75c076feb",
   "metadata": {},
   "outputs": [
    {
     "name": "stdout",
     "output_type": "stream",
     "text": [
      "[1 2 3]\n",
      "Type of array:  <class 'numpy.ndarray'>\n",
      "Dimension of array:  1\n"
     ]
    }
   ],
   "source": [
    "one_dimensional = np.array([1,2,3])\n",
    "\n",
    "print(one_dimensional)\n",
    "print(f'Type of array: ', type(one_dimensional))\n",
    "print(f'Dimension of array: ', one_dimensional.ndim)"
   ]
  },
  {
   "cell_type": "code",
   "execution_count": 137,
   "id": "0d977e10-2765-4c5e-991d-5d67e17a8790",
   "metadata": {},
   "outputs": [
    {
     "name": "stdout",
     "output_type": "stream",
     "text": [
      "[[1 2 3]\n",
      " [4 5 6]]\n",
      "Type of array:  <class 'numpy.ndarray'>\n",
      "Dimension of array:  2\n"
     ]
    }
   ],
   "source": [
    "two_dimensional = np.array([[1,2,3], [4,5,6]])\n",
    "\n",
    "print(two_dimensional)\n",
    "print(f'Type of array: ', type(two_dimensional)) \n",
    "print(f'Dimension of array: ', two_dimensional.ndim)"
   ]
  },
  {
   "cell_type": "code",
   "execution_count": 139,
   "id": "854f3cf9-96e8-43e4-b657-79d5a158eb9d",
   "metadata": {},
   "outputs": [
    {
     "name": "stdout",
     "output_type": "stream",
     "text": [
      "[[[ 1  2  3]\n",
      "  [ 4  5  6]]\n",
      "\n",
      " [[ 7  8  9]\n",
      "  [10 11 12]]]\n",
      "Type of array:  <class 'numpy.ndarray'>\n",
      "Dimension of array:  3\n"
     ]
    }
   ],
   "source": [
    "three_dimensional = np.array([[[1,2,3], [4,5,6]], [[7,8,9],[10,11,12]]])\n",
    "\n",
    "print(three_dimensional)\n",
    "print(f'Type of array: ', type(three_dimensional)) \n",
    "print(f'Dimension of array: ', three_dimensional.ndim)"
   ]
  },
  {
   "cell_type": "markdown",
   "id": "d3ee062e-f727-4d5a-ac77-96d0fdc19991",
   "metadata": {},
   "source": [
    "### Shape of an array"
   ]
  },
  {
   "cell_type": "code",
   "execution_count": 142,
   "id": "c6145d38-9bb2-4473-9158-687560f7ae53",
   "metadata": {},
   "outputs": [
    {
     "name": "stdout",
     "output_type": "stream",
     "text": [
      "(2, 2, 3)\n",
      "(2, 2, 3)\n"
     ]
    }
   ],
   "source": [
    "shape_1 = np.shape(three_dimensional)\n",
    "shape_2 = three_dimensional.shape\n",
    "\n",
    "print(shape_1)\n",
    "print(shape_2)"
   ]
  },
  {
   "cell_type": "markdown",
   "id": "ffb78358-e3b1-4e69-b9f6-ddf6706c0fc8",
   "metadata": {},
   "source": [
    "### Indexing and slicking"
   ]
  },
  {
   "cell_type": "code",
   "execution_count": 149,
   "id": "31985a26-9e5a-49da-8164-2c550a51bd37",
   "metadata": {},
   "outputs": [
    {
     "name": "stdout",
     "output_type": "stream",
     "text": [
      "[3.4 8.7 9.9]\n",
      "8.7\n",
      "[[ 3.4  8.7  9.9]\n",
      " [ 1.1 -7.8 -0.7]]\n",
      "[[ 3.4  8.7]\n",
      " [ 1.1 -7.8]]\n",
      "[[3.4 9.9]\n",
      " [4.1 4.8]]\n"
     ]
    }
   ],
   "source": [
    "A = np.array([ [3.4, 8.7, 9.9], \n",
    "               [1.1, -7.8, -0.7],\n",
    "               [4.1, 12.3, 4.8]])\n",
    "\n",
    "# A [ start : stop : step ]\n",
    "\n",
    "print(A[0])\n",
    "print(A[0,1])\n",
    "\n",
    "print(A[:2])\n",
    "print(A[:2, :2])\n",
    "\n",
    "print(A[::2, ::2])"
   ]
  },
  {
   "cell_type": "markdown",
   "id": "13dead02-3f19-47df-a9c2-0db1b65430bb",
   "metadata": {},
   "source": [
    "### Creating Arrays with Ones, Zeros and Empty"
   ]
  },
  {
   "cell_type": "code",
   "execution_count": 161,
   "id": "d16ecadc-1877-4b31-b665-1ab0a0626696",
   "metadata": {},
   "outputs": [
    {
     "name": "stdout",
     "output_type": "stream",
     "text": [
      "[[1. 1. 1. 1.]\n",
      " [1. 1. 1. 1.]\n",
      " [1. 1. 1. 1.]]\n",
      "[[0. 0. 0. 0.]\n",
      " [0. 0. 0. 0.]\n",
      " [0. 0. 0. 0.]]\n",
      "[[0. 0. 0. 0.]\n",
      " [0. 0. 0. 0.]\n",
      " [0. 0. 0. 0.]]\n",
      "[[1. 1. 1. 1.]\n",
      " [1. 1. 1. 1.]\n",
      " [1. 1. 1. 1.]]\n",
      "[[0. 0. 0. 0.]\n",
      " [0. 0. 0. 0.]\n",
      " [0. 0. 0. 0.]]\n"
     ]
    }
   ],
   "source": [
    "B = np.array([1,2,3,4,5,6,7,8,9])\n",
    "ones_array = np.ones((3,4))\n",
    "zeros_array = np.zeros((3,4))\n",
    "empty_array = np.empty((3,4))\n",
    "\n",
    "print(ones_array)\n",
    "print(zeros_array)\n",
    "print(empty_array)\n",
    "print(np.ones_like(ones_array))\n",
    "print(np.zeros_like(zeros_array))"
   ]
  }
 ],
 "metadata": {
  "kernelspec": {
   "display_name": "Python 3 (ipykernel)",
   "language": "python",
   "name": "python3"
  },
  "language_info": {
   "codemirror_mode": {
    "name": "ipython",
    "version": 3
   },
   "file_extension": ".py",
   "mimetype": "text/x-python",
   "name": "python",
   "nbconvert_exporter": "python",
   "pygments_lexer": "ipython3",
   "version": "3.13.5"
  }
 },
 "nbformat": 4,
 "nbformat_minor": 5
}
